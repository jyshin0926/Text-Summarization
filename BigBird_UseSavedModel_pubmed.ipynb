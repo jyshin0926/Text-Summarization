{
  "nbformat": 4,
  "nbformat_minor": 0,
  "metadata": {
    "accelerator": "GPU",
    "colab": {
      "name": "BigBird_UseSavedModel_pubmed.ipynb",
      "provenance": [],
      "collapsed_sections": []
    },
    "kernelspec": {
      "display_name": "Python 3",
      "name": "python3"
    },
    "widgets": {
      "application/vnd.jupyter.widget-state+json": {
        "1f0e9cc821a44be88593411facf65e8e": {
          "model_module": "@jupyter-widgets/controls",
          "model_name": "HBoxModel",
          "state": {
            "_view_name": "HBoxView",
            "_dom_classes": [],
            "_model_name": "HBoxModel",
            "_view_module": "@jupyter-widgets/controls",
            "_model_module_version": "1.5.0",
            "_view_count": null,
            "_view_module_version": "1.5.0",
            "box_style": "",
            "layout": "IPY_MODEL_d6904aa01a154e85957d717148c73572",
            "_model_module": "@jupyter-widgets/controls",
            "children": [
              "IPY_MODEL_45111a477122448084a2d6a40a90d14a",
              "IPY_MODEL_53b750d50cea4758aa38bd0c1c077e47"
            ]
          }
        },
        "d6904aa01a154e85957d717148c73572": {
          "model_module": "@jupyter-widgets/base",
          "model_name": "LayoutModel",
          "state": {
            "_view_name": "LayoutView",
            "grid_template_rows": null,
            "right": null,
            "justify_content": null,
            "_view_module": "@jupyter-widgets/base",
            "overflow": null,
            "_model_module_version": "1.2.0",
            "_view_count": null,
            "flex_flow": null,
            "width": null,
            "min_width": null,
            "border": null,
            "align_items": null,
            "bottom": null,
            "_model_module": "@jupyter-widgets/base",
            "top": null,
            "grid_column": null,
            "overflow_y": null,
            "overflow_x": null,
            "grid_auto_flow": null,
            "grid_area": null,
            "grid_template_columns": null,
            "flex": null,
            "_model_name": "LayoutModel",
            "justify_items": null,
            "grid_row": null,
            "max_height": null,
            "align_content": null,
            "visibility": null,
            "align_self": null,
            "height": null,
            "min_height": null,
            "padding": null,
            "grid_auto_rows": null,
            "grid_gap": null,
            "max_width": null,
            "order": null,
            "_view_module_version": "1.2.0",
            "grid_template_areas": null,
            "object_position": null,
            "object_fit": null,
            "grid_auto_columns": null,
            "margin": null,
            "display": null,
            "left": null
          }
        },
        "45111a477122448084a2d6a40a90d14a": {
          "model_module": "@jupyter-widgets/controls",
          "model_name": "FloatProgressModel",
          "state": {
            "_view_name": "ProgressView",
            "style": "IPY_MODEL_538d056d74904490bfeb7ced8a9af55b",
            "_dom_classes": [],
            "description": "Dl Completed...: 100%",
            "_model_name": "FloatProgressModel",
            "bar_style": "success",
            "max": 1,
            "_view_module": "@jupyter-widgets/controls",
            "_model_module_version": "1.5.0",
            "value": 1,
            "_view_count": null,
            "_view_module_version": "1.5.0",
            "orientation": "horizontal",
            "min": 0,
            "description_tooltip": null,
            "_model_module": "@jupyter-widgets/controls",
            "layout": "IPY_MODEL_fe9fb64c5f3d49b3b918688503e07008"
          }
        },
        "53b750d50cea4758aa38bd0c1c077e47": {
          "model_module": "@jupyter-widgets/controls",
          "model_name": "HTMLModel",
          "state": {
            "_view_name": "HTMLView",
            "style": "IPY_MODEL_8d4c5d48ab1d4b0a84c8cdbb5dfe70e8",
            "_dom_classes": [],
            "description": "",
            "_model_name": "HTMLModel",
            "placeholder": "​",
            "_view_module": "@jupyter-widgets/controls",
            "_model_module_version": "1.5.0",
            "value": " 2/2 [04:55&lt;00:00, 147.72s/ url]",
            "_view_count": null,
            "_view_module_version": "1.5.0",
            "description_tooltip": null,
            "_model_module": "@jupyter-widgets/controls",
            "layout": "IPY_MODEL_231b5f266c404dfea167cd095f0036e6"
          }
        },
        "538d056d74904490bfeb7ced8a9af55b": {
          "model_module": "@jupyter-widgets/controls",
          "model_name": "ProgressStyleModel",
          "state": {
            "_view_name": "StyleView",
            "_model_name": "ProgressStyleModel",
            "description_width": "initial",
            "_view_module": "@jupyter-widgets/base",
            "_model_module_version": "1.5.0",
            "_view_count": null,
            "_view_module_version": "1.2.0",
            "bar_color": null,
            "_model_module": "@jupyter-widgets/controls"
          }
        },
        "fe9fb64c5f3d49b3b918688503e07008": {
          "model_module": "@jupyter-widgets/base",
          "model_name": "LayoutModel",
          "state": {
            "_view_name": "LayoutView",
            "grid_template_rows": null,
            "right": null,
            "justify_content": null,
            "_view_module": "@jupyter-widgets/base",
            "overflow": null,
            "_model_module_version": "1.2.0",
            "_view_count": null,
            "flex_flow": null,
            "width": null,
            "min_width": null,
            "border": null,
            "align_items": null,
            "bottom": null,
            "_model_module": "@jupyter-widgets/base",
            "top": null,
            "grid_column": null,
            "overflow_y": null,
            "overflow_x": null,
            "grid_auto_flow": null,
            "grid_area": null,
            "grid_template_columns": null,
            "flex": null,
            "_model_name": "LayoutModel",
            "justify_items": null,
            "grid_row": null,
            "max_height": null,
            "align_content": null,
            "visibility": null,
            "align_self": null,
            "height": null,
            "min_height": null,
            "padding": null,
            "grid_auto_rows": null,
            "grid_gap": null,
            "max_width": null,
            "order": null,
            "_view_module_version": "1.2.0",
            "grid_template_areas": null,
            "object_position": null,
            "object_fit": null,
            "grid_auto_columns": null,
            "margin": null,
            "display": null,
            "left": null
          }
        },
        "8d4c5d48ab1d4b0a84c8cdbb5dfe70e8": {
          "model_module": "@jupyter-widgets/controls",
          "model_name": "DescriptionStyleModel",
          "state": {
            "_view_name": "StyleView",
            "_model_name": "DescriptionStyleModel",
            "description_width": "",
            "_view_module": "@jupyter-widgets/base",
            "_model_module_version": "1.5.0",
            "_view_count": null,
            "_view_module_version": "1.2.0",
            "_model_module": "@jupyter-widgets/controls"
          }
        },
        "231b5f266c404dfea167cd095f0036e6": {
          "model_module": "@jupyter-widgets/base",
          "model_name": "LayoutModel",
          "state": {
            "_view_name": "LayoutView",
            "grid_template_rows": null,
            "right": null,
            "justify_content": null,
            "_view_module": "@jupyter-widgets/base",
            "overflow": null,
            "_model_module_version": "1.2.0",
            "_view_count": null,
            "flex_flow": null,
            "width": null,
            "min_width": null,
            "border": null,
            "align_items": null,
            "bottom": null,
            "_model_module": "@jupyter-widgets/base",
            "top": null,
            "grid_column": null,
            "overflow_y": null,
            "overflow_x": null,
            "grid_auto_flow": null,
            "grid_area": null,
            "grid_template_columns": null,
            "flex": null,
            "_model_name": "LayoutModel",
            "justify_items": null,
            "grid_row": null,
            "max_height": null,
            "align_content": null,
            "visibility": null,
            "align_self": null,
            "height": null,
            "min_height": null,
            "padding": null,
            "grid_auto_rows": null,
            "grid_gap": null,
            "max_width": null,
            "order": null,
            "_view_module_version": "1.2.0",
            "grid_template_areas": null,
            "object_position": null,
            "object_fit": null,
            "grid_auto_columns": null,
            "margin": null,
            "display": null,
            "left": null
          }
        },
        "010413c53d6b4cd1884092bc3932ab8d": {
          "model_module": "@jupyter-widgets/controls",
          "model_name": "HBoxModel",
          "state": {
            "_view_name": "HBoxView",
            "_dom_classes": [],
            "_model_name": "HBoxModel",
            "_view_module": "@jupyter-widgets/controls",
            "_model_module_version": "1.5.0",
            "_view_count": null,
            "_view_module_version": "1.5.0",
            "box_style": "",
            "layout": "IPY_MODEL_b7ed6fd58f4a4d6b91893d7eda719d9c",
            "_model_module": "@jupyter-widgets/controls",
            "children": [
              "IPY_MODEL_37d335878971467690bb1cdfe6823d67",
              "IPY_MODEL_286c8eebce16445091bfe0667559275a"
            ]
          }
        },
        "b7ed6fd58f4a4d6b91893d7eda719d9c": {
          "model_module": "@jupyter-widgets/base",
          "model_name": "LayoutModel",
          "state": {
            "_view_name": "LayoutView",
            "grid_template_rows": null,
            "right": null,
            "justify_content": null,
            "_view_module": "@jupyter-widgets/base",
            "overflow": null,
            "_model_module_version": "1.2.0",
            "_view_count": null,
            "flex_flow": null,
            "width": null,
            "min_width": null,
            "border": null,
            "align_items": null,
            "bottom": null,
            "_model_module": "@jupyter-widgets/base",
            "top": null,
            "grid_column": null,
            "overflow_y": null,
            "overflow_x": null,
            "grid_auto_flow": null,
            "grid_area": null,
            "grid_template_columns": null,
            "flex": null,
            "_model_name": "LayoutModel",
            "justify_items": null,
            "grid_row": null,
            "max_height": null,
            "align_content": null,
            "visibility": null,
            "align_self": null,
            "height": null,
            "min_height": null,
            "padding": null,
            "grid_auto_rows": null,
            "grid_gap": null,
            "max_width": null,
            "order": null,
            "_view_module_version": "1.2.0",
            "grid_template_areas": null,
            "object_position": null,
            "object_fit": null,
            "grid_auto_columns": null,
            "margin": null,
            "display": null,
            "left": null
          }
        },
        "37d335878971467690bb1cdfe6823d67": {
          "model_module": "@jupyter-widgets/controls",
          "model_name": "FloatProgressModel",
          "state": {
            "_view_name": "ProgressView",
            "style": "IPY_MODEL_adc57cd55a164bfaba44d50d290b7ac2",
            "_dom_classes": [],
            "description": "Dl Size...: ",
            "_model_name": "FloatProgressModel",
            "bar_style": "success",
            "max": 1,
            "_view_module": "@jupyter-widgets/controls",
            "_model_module_version": "1.5.0",
            "value": 1,
            "_view_count": null,
            "_view_module_version": "1.5.0",
            "orientation": "horizontal",
            "min": 0,
            "description_tooltip": null,
            "_model_module": "@jupyter-widgets/controls",
            "layout": "IPY_MODEL_0522c5b9e3ed4bf2b9e7056b41775c88"
          }
        },
        "286c8eebce16445091bfe0667559275a": {
          "model_module": "@jupyter-widgets/controls",
          "model_name": "HTMLModel",
          "state": {
            "_view_name": "HTMLView",
            "style": "IPY_MODEL_5325fd7ec48b45419c6d7ab7dddaab1b",
            "_dom_classes": [],
            "description": "",
            "_model_name": "HTMLModel",
            "placeholder": "​",
            "_view_module": "@jupyter-widgets/controls",
            "_model_module_version": "1.5.0",
            "value": " 4295/0 [04:55&lt;00:00, 14.54 MiB/s]",
            "_view_count": null,
            "_view_module_version": "1.5.0",
            "description_tooltip": null,
            "_model_module": "@jupyter-widgets/controls",
            "layout": "IPY_MODEL_7a5cd0b314d14aa78d4696e3ea4dc295"
          }
        },
        "adc57cd55a164bfaba44d50d290b7ac2": {
          "model_module": "@jupyter-widgets/controls",
          "model_name": "ProgressStyleModel",
          "state": {
            "_view_name": "StyleView",
            "_model_name": "ProgressStyleModel",
            "description_width": "initial",
            "_view_module": "@jupyter-widgets/base",
            "_model_module_version": "1.5.0",
            "_view_count": null,
            "_view_module_version": "1.2.0",
            "bar_color": null,
            "_model_module": "@jupyter-widgets/controls"
          }
        },
        "0522c5b9e3ed4bf2b9e7056b41775c88": {
          "model_module": "@jupyter-widgets/base",
          "model_name": "LayoutModel",
          "state": {
            "_view_name": "LayoutView",
            "grid_template_rows": null,
            "right": null,
            "justify_content": null,
            "_view_module": "@jupyter-widgets/base",
            "overflow": null,
            "_model_module_version": "1.2.0",
            "_view_count": null,
            "flex_flow": null,
            "width": null,
            "min_width": null,
            "border": null,
            "align_items": null,
            "bottom": null,
            "_model_module": "@jupyter-widgets/base",
            "top": null,
            "grid_column": null,
            "overflow_y": null,
            "overflow_x": null,
            "grid_auto_flow": null,
            "grid_area": null,
            "grid_template_columns": null,
            "flex": null,
            "_model_name": "LayoutModel",
            "justify_items": null,
            "grid_row": null,
            "max_height": null,
            "align_content": null,
            "visibility": null,
            "align_self": null,
            "height": null,
            "min_height": null,
            "padding": null,
            "grid_auto_rows": null,
            "grid_gap": null,
            "max_width": null,
            "order": null,
            "_view_module_version": "1.2.0",
            "grid_template_areas": null,
            "object_position": null,
            "object_fit": null,
            "grid_auto_columns": null,
            "margin": null,
            "display": null,
            "left": null
          }
        },
        "5325fd7ec48b45419c6d7ab7dddaab1b": {
          "model_module": "@jupyter-widgets/controls",
          "model_name": "DescriptionStyleModel",
          "state": {
            "_view_name": "StyleView",
            "_model_name": "DescriptionStyleModel",
            "description_width": "",
            "_view_module": "@jupyter-widgets/base",
            "_model_module_version": "1.5.0",
            "_view_count": null,
            "_view_module_version": "1.2.0",
            "_model_module": "@jupyter-widgets/controls"
          }
        },
        "7a5cd0b314d14aa78d4696e3ea4dc295": {
          "model_module": "@jupyter-widgets/base",
          "model_name": "LayoutModel",
          "state": {
            "_view_name": "LayoutView",
            "grid_template_rows": null,
            "right": null,
            "justify_content": null,
            "_view_module": "@jupyter-widgets/base",
            "overflow": null,
            "_model_module_version": "1.2.0",
            "_view_count": null,
            "flex_flow": null,
            "width": null,
            "min_width": null,
            "border": null,
            "align_items": null,
            "bottom": null,
            "_model_module": "@jupyter-widgets/base",
            "top": null,
            "grid_column": null,
            "overflow_y": null,
            "overflow_x": null,
            "grid_auto_flow": null,
            "grid_area": null,
            "grid_template_columns": null,
            "flex": null,
            "_model_name": "LayoutModel",
            "justify_items": null,
            "grid_row": null,
            "max_height": null,
            "align_content": null,
            "visibility": null,
            "align_self": null,
            "height": null,
            "min_height": null,
            "padding": null,
            "grid_auto_rows": null,
            "grid_gap": null,
            "max_width": null,
            "order": null,
            "_view_module_version": "1.2.0",
            "grid_template_areas": null,
            "object_position": null,
            "object_fit": null,
            "grid_auto_columns": null,
            "margin": null,
            "display": null,
            "left": null
          }
        },
        "1cc106784d4d437e87a254e91f03cf9c": {
          "model_module": "@jupyter-widgets/controls",
          "model_name": "HBoxModel",
          "state": {
            "_view_name": "HBoxView",
            "_dom_classes": [],
            "_model_name": "HBoxModel",
            "_view_module": "@jupyter-widgets/controls",
            "_model_module_version": "1.5.0",
            "_view_count": null,
            "_view_module_version": "1.5.0",
            "box_style": "",
            "layout": "IPY_MODEL_a9b2c63213384dab8585aeaafe0ce866",
            "_model_module": "@jupyter-widgets/controls",
            "children": [
              "IPY_MODEL_84025f7942994f31ad668b178f7523f6",
              "IPY_MODEL_701ee75d07604324973528259de6fd76"
            ]
          }
        },
        "a9b2c63213384dab8585aeaafe0ce866": {
          "model_module": "@jupyter-widgets/base",
          "model_name": "LayoutModel",
          "state": {
            "_view_name": "LayoutView",
            "grid_template_rows": null,
            "right": null,
            "justify_content": null,
            "_view_module": "@jupyter-widgets/base",
            "overflow": null,
            "_model_module_version": "1.2.0",
            "_view_count": null,
            "flex_flow": null,
            "width": null,
            "min_width": null,
            "border": null,
            "align_items": null,
            "bottom": null,
            "_model_module": "@jupyter-widgets/base",
            "top": null,
            "grid_column": null,
            "overflow_y": null,
            "overflow_x": null,
            "grid_auto_flow": null,
            "grid_area": null,
            "grid_template_columns": null,
            "flex": null,
            "_model_name": "LayoutModel",
            "justify_items": null,
            "grid_row": null,
            "max_height": null,
            "align_content": null,
            "visibility": null,
            "align_self": null,
            "height": null,
            "min_height": null,
            "padding": null,
            "grid_auto_rows": null,
            "grid_gap": null,
            "max_width": null,
            "order": null,
            "_view_module_version": "1.2.0",
            "grid_template_areas": null,
            "object_position": null,
            "object_fit": null,
            "grid_auto_columns": null,
            "margin": null,
            "display": null,
            "left": null
          }
        },
        "84025f7942994f31ad668b178f7523f6": {
          "model_module": "@jupyter-widgets/controls",
          "model_name": "FloatProgressModel",
          "state": {
            "_view_name": "ProgressView",
            "style": "IPY_MODEL_41e51740e1114bba9d97c8a376d9227c",
            "_dom_classes": [],
            "description": "Extraction completed...: 100%",
            "_model_name": "FloatProgressModel",
            "bar_style": "success",
            "max": 1,
            "_view_module": "@jupyter-widgets/controls",
            "_model_module_version": "1.5.0",
            "value": 1,
            "_view_count": null,
            "_view_module_version": "1.5.0",
            "orientation": "horizontal",
            "min": 0,
            "description_tooltip": null,
            "_model_module": "@jupyter-widgets/controls",
            "layout": "IPY_MODEL_d17ade873ccd4debb98d71111de37b04"
          }
        },
        "701ee75d07604324973528259de6fd76": {
          "model_module": "@jupyter-widgets/controls",
          "model_name": "HTMLModel",
          "state": {
            "_view_name": "HTMLView",
            "style": "IPY_MODEL_efe4fe6e2af040a49151169d3b086f33",
            "_dom_classes": [],
            "description": "",
            "_model_name": "HTMLModel",
            "placeholder": "​",
            "_view_module": "@jupyter-widgets/controls",
            "_model_module_version": "1.5.0",
            "value": " 2/2 [04:55&lt;00:00, 147.68s/ file]",
            "_view_count": null,
            "_view_module_version": "1.5.0",
            "description_tooltip": null,
            "_model_module": "@jupyter-widgets/controls",
            "layout": "IPY_MODEL_b98e7ed83ddc4d15985f2e87788cda8d"
          }
        },
        "41e51740e1114bba9d97c8a376d9227c": {
          "model_module": "@jupyter-widgets/controls",
          "model_name": "ProgressStyleModel",
          "state": {
            "_view_name": "StyleView",
            "_model_name": "ProgressStyleModel",
            "description_width": "initial",
            "_view_module": "@jupyter-widgets/base",
            "_model_module_version": "1.5.0",
            "_view_count": null,
            "_view_module_version": "1.2.0",
            "bar_color": null,
            "_model_module": "@jupyter-widgets/controls"
          }
        },
        "d17ade873ccd4debb98d71111de37b04": {
          "model_module": "@jupyter-widgets/base",
          "model_name": "LayoutModel",
          "state": {
            "_view_name": "LayoutView",
            "grid_template_rows": null,
            "right": null,
            "justify_content": null,
            "_view_module": "@jupyter-widgets/base",
            "overflow": null,
            "_model_module_version": "1.2.0",
            "_view_count": null,
            "flex_flow": null,
            "width": null,
            "min_width": null,
            "border": null,
            "align_items": null,
            "bottom": null,
            "_model_module": "@jupyter-widgets/base",
            "top": null,
            "grid_column": null,
            "overflow_y": null,
            "overflow_x": null,
            "grid_auto_flow": null,
            "grid_area": null,
            "grid_template_columns": null,
            "flex": null,
            "_model_name": "LayoutModel",
            "justify_items": null,
            "grid_row": null,
            "max_height": null,
            "align_content": null,
            "visibility": null,
            "align_self": null,
            "height": null,
            "min_height": null,
            "padding": null,
            "grid_auto_rows": null,
            "grid_gap": null,
            "max_width": null,
            "order": null,
            "_view_module_version": "1.2.0",
            "grid_template_areas": null,
            "object_position": null,
            "object_fit": null,
            "grid_auto_columns": null,
            "margin": null,
            "display": null,
            "left": null
          }
        },
        "efe4fe6e2af040a49151169d3b086f33": {
          "model_module": "@jupyter-widgets/controls",
          "model_name": "DescriptionStyleModel",
          "state": {
            "_view_name": "StyleView",
            "_model_name": "DescriptionStyleModel",
            "description_width": "",
            "_view_module": "@jupyter-widgets/base",
            "_model_module_version": "1.5.0",
            "_view_count": null,
            "_view_module_version": "1.2.0",
            "_model_module": "@jupyter-widgets/controls"
          }
        },
        "b98e7ed83ddc4d15985f2e87788cda8d": {
          "model_module": "@jupyter-widgets/base",
          "model_name": "LayoutModel",
          "state": {
            "_view_name": "LayoutView",
            "grid_template_rows": null,
            "right": null,
            "justify_content": null,
            "_view_module": "@jupyter-widgets/base",
            "overflow": null,
            "_model_module_version": "1.2.0",
            "_view_count": null,
            "flex_flow": null,
            "width": null,
            "min_width": null,
            "border": null,
            "align_items": null,
            "bottom": null,
            "_model_module": "@jupyter-widgets/base",
            "top": null,
            "grid_column": null,
            "overflow_y": null,
            "overflow_x": null,
            "grid_auto_flow": null,
            "grid_area": null,
            "grid_template_columns": null,
            "flex": null,
            "_model_name": "LayoutModel",
            "justify_items": null,
            "grid_row": null,
            "max_height": null,
            "align_content": null,
            "visibility": null,
            "align_self": null,
            "height": null,
            "min_height": null,
            "padding": null,
            "grid_auto_rows": null,
            "grid_gap": null,
            "max_width": null,
            "order": null,
            "_view_module_version": "1.2.0",
            "grid_template_areas": null,
            "object_position": null,
            "object_fit": null,
            "grid_auto_columns": null,
            "margin": null,
            "display": null,
            "left": null
          }
        },
        "d9d682a46bfc48669586a8bb39669b99": {
          "model_module": "@jupyter-widgets/controls",
          "model_name": "HBoxModel",
          "state": {
            "_view_name": "HBoxView",
            "_dom_classes": [],
            "_model_name": "HBoxModel",
            "_view_module": "@jupyter-widgets/controls",
            "_model_module_version": "1.5.0",
            "_view_count": null,
            "_view_module_version": "1.5.0",
            "box_style": "",
            "layout": "IPY_MODEL_8f5986267722490491b6a0728a2fb0b9",
            "_model_module": "@jupyter-widgets/controls",
            "children": [
              "IPY_MODEL_528b54976c3e45148d555f0ff44d1538",
              "IPY_MODEL_05c4b787279a4e05b05e18db95510bb9"
            ]
          }
        },
        "8f5986267722490491b6a0728a2fb0b9": {
          "model_module": "@jupyter-widgets/base",
          "model_name": "LayoutModel",
          "state": {
            "_view_name": "LayoutView",
            "grid_template_rows": null,
            "right": null,
            "justify_content": null,
            "_view_module": "@jupyter-widgets/base",
            "overflow": null,
            "_model_module_version": "1.2.0",
            "_view_count": null,
            "flex_flow": null,
            "width": null,
            "min_width": null,
            "border": null,
            "align_items": null,
            "bottom": null,
            "_model_module": "@jupyter-widgets/base",
            "top": null,
            "grid_column": null,
            "overflow_y": null,
            "overflow_x": null,
            "grid_auto_flow": null,
            "grid_area": null,
            "grid_template_columns": null,
            "flex": null,
            "_model_name": "LayoutModel",
            "justify_items": null,
            "grid_row": null,
            "max_height": null,
            "align_content": null,
            "visibility": null,
            "align_self": null,
            "height": null,
            "min_height": null,
            "padding": null,
            "grid_auto_rows": null,
            "grid_gap": null,
            "max_width": null,
            "order": null,
            "_view_module_version": "1.2.0",
            "grid_template_areas": null,
            "object_position": null,
            "object_fit": null,
            "grid_auto_columns": null,
            "margin": null,
            "display": null,
            "left": null
          }
        },
        "528b54976c3e45148d555f0ff44d1538": {
          "model_module": "@jupyter-widgets/controls",
          "model_name": "FloatProgressModel",
          "state": {
            "_view_name": "ProgressView",
            "style": "IPY_MODEL_c3abd7424e8743838888ff4671570b62",
            "_dom_classes": [],
            "description": "Generating splits...: 100%",
            "_model_name": "FloatProgressModel",
            "bar_style": "",
            "max": 3,
            "_view_module": "@jupyter-widgets/controls",
            "_model_module_version": "1.5.0",
            "value": 3,
            "_view_count": null,
            "_view_module_version": "1.5.0",
            "orientation": "horizontal",
            "min": 0,
            "description_tooltip": null,
            "_model_module": "@jupyter-widgets/controls",
            "layout": "IPY_MODEL_2c586e5e408449989fd75233e51e559d"
          }
        },
        "05c4b787279a4e05b05e18db95510bb9": {
          "model_module": "@jupyter-widgets/controls",
          "model_name": "HTMLModel",
          "state": {
            "_view_name": "HTMLView",
            "style": "IPY_MODEL_9aa7e930ecbe408a87d10fc2479b7cac",
            "_dom_classes": [],
            "description": "",
            "_model_name": "HTMLModel",
            "placeholder": "​",
            "_view_module": "@jupyter-widgets/controls",
            "_model_module_version": "1.5.0",
            "value": " 3/3 [01:33&lt;00:00, 44.12s/ splits]",
            "_view_count": null,
            "_view_module_version": "1.5.0",
            "description_tooltip": null,
            "_model_module": "@jupyter-widgets/controls",
            "layout": "IPY_MODEL_0d0da9f88bfa41e0b4ee3b15008b1e8a"
          }
        },
        "c3abd7424e8743838888ff4671570b62": {
          "model_module": "@jupyter-widgets/controls",
          "model_name": "ProgressStyleModel",
          "state": {
            "_view_name": "StyleView",
            "_model_name": "ProgressStyleModel",
            "description_width": "initial",
            "_view_module": "@jupyter-widgets/base",
            "_model_module_version": "1.5.0",
            "_view_count": null,
            "_view_module_version": "1.2.0",
            "bar_color": null,
            "_model_module": "@jupyter-widgets/controls"
          }
        },
        "2c586e5e408449989fd75233e51e559d": {
          "model_module": "@jupyter-widgets/base",
          "model_name": "LayoutModel",
          "state": {
            "_view_name": "LayoutView",
            "grid_template_rows": null,
            "right": null,
            "justify_content": null,
            "_view_module": "@jupyter-widgets/base",
            "overflow": null,
            "_model_module_version": "1.2.0",
            "_view_count": null,
            "flex_flow": null,
            "width": null,
            "min_width": null,
            "border": null,
            "align_items": null,
            "bottom": null,
            "_model_module": "@jupyter-widgets/base",
            "top": null,
            "grid_column": null,
            "overflow_y": null,
            "overflow_x": null,
            "grid_auto_flow": null,
            "grid_area": null,
            "grid_template_columns": null,
            "flex": null,
            "_model_name": "LayoutModel",
            "justify_items": null,
            "grid_row": null,
            "max_height": null,
            "align_content": null,
            "visibility": null,
            "align_self": null,
            "height": null,
            "min_height": null,
            "padding": null,
            "grid_auto_rows": null,
            "grid_gap": null,
            "max_width": null,
            "order": null,
            "_view_module_version": "1.2.0",
            "grid_template_areas": null,
            "object_position": null,
            "object_fit": null,
            "grid_auto_columns": null,
            "margin": null,
            "display": null,
            "left": null
          }
        },
        "9aa7e930ecbe408a87d10fc2479b7cac": {
          "model_module": "@jupyter-widgets/controls",
          "model_name": "DescriptionStyleModel",
          "state": {
            "_view_name": "StyleView",
            "_model_name": "DescriptionStyleModel",
            "description_width": "",
            "_view_module": "@jupyter-widgets/base",
            "_model_module_version": "1.5.0",
            "_view_count": null,
            "_view_module_version": "1.2.0",
            "_model_module": "@jupyter-widgets/controls"
          }
        },
        "0d0da9f88bfa41e0b4ee3b15008b1e8a": {
          "model_module": "@jupyter-widgets/base",
          "model_name": "LayoutModel",
          "state": {
            "_view_name": "LayoutView",
            "grid_template_rows": null,
            "right": null,
            "justify_content": null,
            "_view_module": "@jupyter-widgets/base",
            "overflow": null,
            "_model_module_version": "1.2.0",
            "_view_count": null,
            "flex_flow": null,
            "width": null,
            "min_width": null,
            "border": null,
            "align_items": null,
            "bottom": null,
            "_model_module": "@jupyter-widgets/base",
            "top": null,
            "grid_column": null,
            "overflow_y": null,
            "overflow_x": null,
            "grid_auto_flow": null,
            "grid_area": null,
            "grid_template_columns": null,
            "flex": null,
            "_model_name": "LayoutModel",
            "justify_items": null,
            "grid_row": null,
            "max_height": null,
            "align_content": null,
            "visibility": null,
            "align_self": null,
            "height": null,
            "min_height": null,
            "padding": null,
            "grid_auto_rows": null,
            "grid_gap": null,
            "max_width": null,
            "order": null,
            "_view_module_version": "1.2.0",
            "grid_template_areas": null,
            "object_position": null,
            "object_fit": null,
            "grid_auto_columns": null,
            "margin": null,
            "display": null,
            "left": null
          }
        },
        "bf0bf188a73741d99a95cfc4b260a980": {
          "model_module": "@jupyter-widgets/controls",
          "model_name": "HBoxModel",
          "state": {
            "_view_name": "HBoxView",
            "_dom_classes": [],
            "_model_name": "HBoxModel",
            "_view_module": "@jupyter-widgets/controls",
            "_model_module_version": "1.5.0",
            "_view_count": null,
            "_view_module_version": "1.5.0",
            "box_style": "",
            "layout": "IPY_MODEL_be5057d6fcdb424fa1275fb585270fc1",
            "_model_module": "@jupyter-widgets/controls",
            "children": [
              "IPY_MODEL_66d3e6fcc8c6482687a13137e9f6a5fe",
              "IPY_MODEL_3f0400fb22f04f928b76c8357810752e"
            ]
          }
        },
        "be5057d6fcdb424fa1275fb585270fc1": {
          "model_module": "@jupyter-widgets/base",
          "model_name": "LayoutModel",
          "state": {
            "_view_name": "LayoutView",
            "grid_template_rows": null,
            "right": null,
            "justify_content": null,
            "_view_module": "@jupyter-widgets/base",
            "overflow": null,
            "_model_module_version": "1.2.0",
            "_view_count": null,
            "flex_flow": null,
            "width": null,
            "min_width": null,
            "border": null,
            "align_items": null,
            "bottom": null,
            "_model_module": "@jupyter-widgets/base",
            "top": null,
            "grid_column": null,
            "overflow_y": null,
            "overflow_x": null,
            "grid_auto_flow": null,
            "grid_area": null,
            "grid_template_columns": null,
            "flex": null,
            "_model_name": "LayoutModel",
            "justify_items": null,
            "grid_row": null,
            "max_height": null,
            "align_content": null,
            "visibility": null,
            "align_self": null,
            "height": null,
            "min_height": null,
            "padding": null,
            "grid_auto_rows": null,
            "grid_gap": null,
            "max_width": null,
            "order": null,
            "_view_module_version": "1.2.0",
            "grid_template_areas": null,
            "object_position": null,
            "object_fit": null,
            "grid_auto_columns": null,
            "margin": null,
            "display": null,
            "left": null
          }
        },
        "66d3e6fcc8c6482687a13137e9f6a5fe": {
          "model_module": "@jupyter-widgets/controls",
          "model_name": "FloatProgressModel",
          "state": {
            "_view_name": "ProgressView",
            "style": "IPY_MODEL_d2ab56de38444baabf73b093372f8ee7",
            "_dom_classes": [],
            "description": "Generating train examples...: 100%",
            "_model_name": "FloatProgressModel",
            "bar_style": "",
            "max": 119924,
            "_view_module": "@jupyter-widgets/controls",
            "_model_module_version": "1.5.0",
            "value": 119924,
            "_view_count": null,
            "_view_module_version": "1.5.0",
            "orientation": "horizontal",
            "min": 0,
            "description_tooltip": null,
            "_model_module": "@jupyter-widgets/controls",
            "layout": "IPY_MODEL_015e8b9db7264f7485bc167df7e293d7"
          }
        },
        "3f0400fb22f04f928b76c8357810752e": {
          "model_module": "@jupyter-widgets/controls",
          "model_name": "HTMLModel",
          "state": {
            "_view_name": "HTMLView",
            "style": "IPY_MODEL_b3e384dc90204eb393fcfd191b203439",
            "_dom_classes": [],
            "description": "",
            "_model_name": "HTMLModel",
            "placeholder": "​",
            "_view_module": "@jupyter-widgets/controls",
            "_model_module_version": "1.5.0",
            "value": " 119924/119924 [01:08&lt;00:00, 1470.10 examples/s]",
            "_view_count": null,
            "_view_module_version": "1.5.0",
            "description_tooltip": null,
            "_model_module": "@jupyter-widgets/controls",
            "layout": "IPY_MODEL_e13e385accc2458fa728e7bc0614ed02"
          }
        },
        "d2ab56de38444baabf73b093372f8ee7": {
          "model_module": "@jupyter-widgets/controls",
          "model_name": "ProgressStyleModel",
          "state": {
            "_view_name": "StyleView",
            "_model_name": "ProgressStyleModel",
            "description_width": "initial",
            "_view_module": "@jupyter-widgets/base",
            "_model_module_version": "1.5.0",
            "_view_count": null,
            "_view_module_version": "1.2.0",
            "bar_color": null,
            "_model_module": "@jupyter-widgets/controls"
          }
        },
        "015e8b9db7264f7485bc167df7e293d7": {
          "model_module": "@jupyter-widgets/base",
          "model_name": "LayoutModel",
          "state": {
            "_view_name": "LayoutView",
            "grid_template_rows": null,
            "right": null,
            "justify_content": null,
            "_view_module": "@jupyter-widgets/base",
            "overflow": null,
            "_model_module_version": "1.2.0",
            "_view_count": null,
            "flex_flow": null,
            "width": null,
            "min_width": null,
            "border": null,
            "align_items": null,
            "bottom": null,
            "_model_module": "@jupyter-widgets/base",
            "top": null,
            "grid_column": null,
            "overflow_y": null,
            "overflow_x": null,
            "grid_auto_flow": null,
            "grid_area": null,
            "grid_template_columns": null,
            "flex": null,
            "_model_name": "LayoutModel",
            "justify_items": null,
            "grid_row": null,
            "max_height": null,
            "align_content": null,
            "visibility": null,
            "align_self": null,
            "height": null,
            "min_height": null,
            "padding": null,
            "grid_auto_rows": null,
            "grid_gap": null,
            "max_width": null,
            "order": null,
            "_view_module_version": "1.2.0",
            "grid_template_areas": null,
            "object_position": null,
            "object_fit": null,
            "grid_auto_columns": null,
            "margin": null,
            "display": null,
            "left": null
          }
        },
        "b3e384dc90204eb393fcfd191b203439": {
          "model_module": "@jupyter-widgets/controls",
          "model_name": "DescriptionStyleModel",
          "state": {
            "_view_name": "StyleView",
            "_model_name": "DescriptionStyleModel",
            "description_width": "",
            "_view_module": "@jupyter-widgets/base",
            "_model_module_version": "1.5.0",
            "_view_count": null,
            "_view_module_version": "1.2.0",
            "_model_module": "@jupyter-widgets/controls"
          }
        },
        "e13e385accc2458fa728e7bc0614ed02": {
          "model_module": "@jupyter-widgets/base",
          "model_name": "LayoutModel",
          "state": {
            "_view_name": "LayoutView",
            "grid_template_rows": null,
            "right": null,
            "justify_content": null,
            "_view_module": "@jupyter-widgets/base",
            "overflow": null,
            "_model_module_version": "1.2.0",
            "_view_count": null,
            "flex_flow": null,
            "width": null,
            "min_width": null,
            "border": null,
            "align_items": null,
            "bottom": null,
            "_model_module": "@jupyter-widgets/base",
            "top": null,
            "grid_column": null,
            "overflow_y": null,
            "overflow_x": null,
            "grid_auto_flow": null,
            "grid_area": null,
            "grid_template_columns": null,
            "flex": null,
            "_model_name": "LayoutModel",
            "justify_items": null,
            "grid_row": null,
            "max_height": null,
            "align_content": null,
            "visibility": null,
            "align_self": null,
            "height": null,
            "min_height": null,
            "padding": null,
            "grid_auto_rows": null,
            "grid_gap": null,
            "max_width": null,
            "order": null,
            "_view_module_version": "1.2.0",
            "grid_template_areas": null,
            "object_position": null,
            "object_fit": null,
            "grid_auto_columns": null,
            "margin": null,
            "display": null,
            "left": null
          }
        },
        "24203d5ed0bc4b259e9b1d0e08e1cbd3": {
          "model_module": "@jupyter-widgets/controls",
          "model_name": "HBoxModel",
          "state": {
            "_view_name": "HBoxView",
            "_dom_classes": [],
            "_model_name": "HBoxModel",
            "_view_module": "@jupyter-widgets/controls",
            "_model_module_version": "1.5.0",
            "_view_count": null,
            "_view_module_version": "1.5.0",
            "box_style": "",
            "layout": "IPY_MODEL_2e55cef0aacb4bffb8b3c3b3e9f5bad3",
            "_model_module": "@jupyter-widgets/controls",
            "children": [
              "IPY_MODEL_18e09e03d43749c6a3dfef76070f2cb3",
              "IPY_MODEL_12e3b277a690486e980b2ea102aba303"
            ]
          }
        },
        "2e55cef0aacb4bffb8b3c3b3e9f5bad3": {
          "model_module": "@jupyter-widgets/base",
          "model_name": "LayoutModel",
          "state": {
            "_view_name": "LayoutView",
            "grid_template_rows": null,
            "right": null,
            "justify_content": null,
            "_view_module": "@jupyter-widgets/base",
            "overflow": null,
            "_model_module_version": "1.2.0",
            "_view_count": null,
            "flex_flow": null,
            "width": null,
            "min_width": null,
            "border": null,
            "align_items": null,
            "bottom": null,
            "_model_module": "@jupyter-widgets/base",
            "top": null,
            "grid_column": null,
            "overflow_y": null,
            "overflow_x": null,
            "grid_auto_flow": null,
            "grid_area": null,
            "grid_template_columns": null,
            "flex": null,
            "_model_name": "LayoutModel",
            "justify_items": null,
            "grid_row": null,
            "max_height": null,
            "align_content": null,
            "visibility": null,
            "align_self": null,
            "height": null,
            "min_height": null,
            "padding": null,
            "grid_auto_rows": null,
            "grid_gap": null,
            "max_width": null,
            "order": null,
            "_view_module_version": "1.2.0",
            "grid_template_areas": null,
            "object_position": null,
            "object_fit": null,
            "grid_auto_columns": null,
            "margin": null,
            "display": null,
            "left": null
          }
        },
        "18e09e03d43749c6a3dfef76070f2cb3": {
          "model_module": "@jupyter-widgets/controls",
          "model_name": "FloatProgressModel",
          "state": {
            "_view_name": "ProgressView",
            "style": "IPY_MODEL_5f46ed3cd8d84b4996b19e4efcd4f53f",
            "_dom_classes": [],
            "description": "Shuffling scientific_papers-train.tfrecord...: 100%",
            "_model_name": "FloatProgressModel",
            "bar_style": "",
            "max": 119924,
            "_view_module": "@jupyter-widgets/controls",
            "_model_module_version": "1.5.0",
            "value": 119924,
            "_view_count": null,
            "_view_module_version": "1.5.0",
            "orientation": "horizontal",
            "min": 0,
            "description_tooltip": null,
            "_model_module": "@jupyter-widgets/controls",
            "layout": "IPY_MODEL_6a0ca6e5c62144fda13f46dc28e0fc10"
          }
        },
        "12e3b277a690486e980b2ea102aba303": {
          "model_module": "@jupyter-widgets/controls",
          "model_name": "HTMLModel",
          "state": {
            "_view_name": "HTMLView",
            "style": "IPY_MODEL_5799274c991d4c0dbea979c5cc255171",
            "_dom_classes": [],
            "description": "",
            "_model_name": "HTMLModel",
            "placeholder": "​",
            "_view_module": "@jupyter-widgets/controls",
            "_model_module_version": "1.5.0",
            "value": " 119924/119924 [00:17&lt;00:00, 6637.13 examples/s]",
            "_view_count": null,
            "_view_module_version": "1.5.0",
            "description_tooltip": null,
            "_model_module": "@jupyter-widgets/controls",
            "layout": "IPY_MODEL_23c56e1d094f47969b43788f6aa62527"
          }
        },
        "5f46ed3cd8d84b4996b19e4efcd4f53f": {
          "model_module": "@jupyter-widgets/controls",
          "model_name": "ProgressStyleModel",
          "state": {
            "_view_name": "StyleView",
            "_model_name": "ProgressStyleModel",
            "description_width": "initial",
            "_view_module": "@jupyter-widgets/base",
            "_model_module_version": "1.5.0",
            "_view_count": null,
            "_view_module_version": "1.2.0",
            "bar_color": null,
            "_model_module": "@jupyter-widgets/controls"
          }
        },
        "6a0ca6e5c62144fda13f46dc28e0fc10": {
          "model_module": "@jupyter-widgets/base",
          "model_name": "LayoutModel",
          "state": {
            "_view_name": "LayoutView",
            "grid_template_rows": null,
            "right": null,
            "justify_content": null,
            "_view_module": "@jupyter-widgets/base",
            "overflow": null,
            "_model_module_version": "1.2.0",
            "_view_count": null,
            "flex_flow": null,
            "width": null,
            "min_width": null,
            "border": null,
            "align_items": null,
            "bottom": null,
            "_model_module": "@jupyter-widgets/base",
            "top": null,
            "grid_column": null,
            "overflow_y": null,
            "overflow_x": null,
            "grid_auto_flow": null,
            "grid_area": null,
            "grid_template_columns": null,
            "flex": null,
            "_model_name": "LayoutModel",
            "justify_items": null,
            "grid_row": null,
            "max_height": null,
            "align_content": null,
            "visibility": null,
            "align_self": null,
            "height": null,
            "min_height": null,
            "padding": null,
            "grid_auto_rows": null,
            "grid_gap": null,
            "max_width": null,
            "order": null,
            "_view_module_version": "1.2.0",
            "grid_template_areas": null,
            "object_position": null,
            "object_fit": null,
            "grid_auto_columns": null,
            "margin": null,
            "display": null,
            "left": null
          }
        },
        "5799274c991d4c0dbea979c5cc255171": {
          "model_module": "@jupyter-widgets/controls",
          "model_name": "DescriptionStyleModel",
          "state": {
            "_view_name": "StyleView",
            "_model_name": "DescriptionStyleModel",
            "description_width": "",
            "_view_module": "@jupyter-widgets/base",
            "_model_module_version": "1.5.0",
            "_view_count": null,
            "_view_module_version": "1.2.0",
            "_model_module": "@jupyter-widgets/controls"
          }
        },
        "23c56e1d094f47969b43788f6aa62527": {
          "model_module": "@jupyter-widgets/base",
          "model_name": "LayoutModel",
          "state": {
            "_view_name": "LayoutView",
            "grid_template_rows": null,
            "right": null,
            "justify_content": null,
            "_view_module": "@jupyter-widgets/base",
            "overflow": null,
            "_model_module_version": "1.2.0",
            "_view_count": null,
            "flex_flow": null,
            "width": null,
            "min_width": null,
            "border": null,
            "align_items": null,
            "bottom": null,
            "_model_module": "@jupyter-widgets/base",
            "top": null,
            "grid_column": null,
            "overflow_y": null,
            "overflow_x": null,
            "grid_auto_flow": null,
            "grid_area": null,
            "grid_template_columns": null,
            "flex": null,
            "_model_name": "LayoutModel",
            "justify_items": null,
            "grid_row": null,
            "max_height": null,
            "align_content": null,
            "visibility": null,
            "align_self": null,
            "height": null,
            "min_height": null,
            "padding": null,
            "grid_auto_rows": null,
            "grid_gap": null,
            "max_width": null,
            "order": null,
            "_view_module_version": "1.2.0",
            "grid_template_areas": null,
            "object_position": null,
            "object_fit": null,
            "grid_auto_columns": null,
            "margin": null,
            "display": null,
            "left": null
          }
        },
        "2fff60fe8ace4deda17b7ca4de44c7aa": {
          "model_module": "@jupyter-widgets/controls",
          "model_name": "HBoxModel",
          "state": {
            "_view_name": "HBoxView",
            "_dom_classes": [],
            "_model_name": "HBoxModel",
            "_view_module": "@jupyter-widgets/controls",
            "_model_module_version": "1.5.0",
            "_view_count": null,
            "_view_module_version": "1.5.0",
            "box_style": "",
            "layout": "IPY_MODEL_fa927a7448694b37aa0d0ac47b34f4fb",
            "_model_module": "@jupyter-widgets/controls",
            "children": [
              "IPY_MODEL_813f6e10d2d34c7c87c991d7d8cc7688",
              "IPY_MODEL_a3b430d1ba474af3b649528bc87d00a2"
            ]
          }
        },
        "fa927a7448694b37aa0d0ac47b34f4fb": {
          "model_module": "@jupyter-widgets/base",
          "model_name": "LayoutModel",
          "state": {
            "_view_name": "LayoutView",
            "grid_template_rows": null,
            "right": null,
            "justify_content": null,
            "_view_module": "@jupyter-widgets/base",
            "overflow": null,
            "_model_module_version": "1.2.0",
            "_view_count": null,
            "flex_flow": null,
            "width": null,
            "min_width": null,
            "border": null,
            "align_items": null,
            "bottom": null,
            "_model_module": "@jupyter-widgets/base",
            "top": null,
            "grid_column": null,
            "overflow_y": null,
            "overflow_x": null,
            "grid_auto_flow": null,
            "grid_area": null,
            "grid_template_columns": null,
            "flex": null,
            "_model_name": "LayoutModel",
            "justify_items": null,
            "grid_row": null,
            "max_height": null,
            "align_content": null,
            "visibility": null,
            "align_self": null,
            "height": null,
            "min_height": null,
            "padding": null,
            "grid_auto_rows": null,
            "grid_gap": null,
            "max_width": null,
            "order": null,
            "_view_module_version": "1.2.0",
            "grid_template_areas": null,
            "object_position": null,
            "object_fit": null,
            "grid_auto_columns": null,
            "margin": null,
            "display": null,
            "left": null
          }
        },
        "813f6e10d2d34c7c87c991d7d8cc7688": {
          "model_module": "@jupyter-widgets/controls",
          "model_name": "FloatProgressModel",
          "state": {
            "_view_name": "ProgressView",
            "style": "IPY_MODEL_16a7bb61ef8d4a8681a1c73dea58298e",
            "_dom_classes": [],
            "description": "Generating validation examples...: 100%",
            "_model_name": "FloatProgressModel",
            "bar_style": "",
            "max": 6633,
            "_view_module": "@jupyter-widgets/controls",
            "_model_module_version": "1.5.0",
            "value": 6633,
            "_view_count": null,
            "_view_module_version": "1.5.0",
            "orientation": "horizontal",
            "min": 0,
            "description_tooltip": null,
            "_model_module": "@jupyter-widgets/controls",
            "layout": "IPY_MODEL_fd6087464a904ef485bde586ac4f59b5"
          }
        },
        "a3b430d1ba474af3b649528bc87d00a2": {
          "model_module": "@jupyter-widgets/controls",
          "model_name": "HTMLModel",
          "state": {
            "_view_name": "HTMLView",
            "style": "IPY_MODEL_9ff2b0e8c2c94f2394f3e2421affe65f",
            "_dom_classes": [],
            "description": "",
            "_model_name": "HTMLModel",
            "placeholder": "​",
            "_view_module": "@jupyter-widgets/controls",
            "_model_module_version": "1.5.0",
            "value": " 6633/6633 [00:03&lt;00:00, 1908.20 examples/s]",
            "_view_count": null,
            "_view_module_version": "1.5.0",
            "description_tooltip": null,
            "_model_module": "@jupyter-widgets/controls",
            "layout": "IPY_MODEL_fc58c288ac1f4d7cb282ac28842e9456"
          }
        },
        "16a7bb61ef8d4a8681a1c73dea58298e": {
          "model_module": "@jupyter-widgets/controls",
          "model_name": "ProgressStyleModel",
          "state": {
            "_view_name": "StyleView",
            "_model_name": "ProgressStyleModel",
            "description_width": "initial",
            "_view_module": "@jupyter-widgets/base",
            "_model_module_version": "1.5.0",
            "_view_count": null,
            "_view_module_version": "1.2.0",
            "bar_color": null,
            "_model_module": "@jupyter-widgets/controls"
          }
        },
        "fd6087464a904ef485bde586ac4f59b5": {
          "model_module": "@jupyter-widgets/base",
          "model_name": "LayoutModel",
          "state": {
            "_view_name": "LayoutView",
            "grid_template_rows": null,
            "right": null,
            "justify_content": null,
            "_view_module": "@jupyter-widgets/base",
            "overflow": null,
            "_model_module_version": "1.2.0",
            "_view_count": null,
            "flex_flow": null,
            "width": null,
            "min_width": null,
            "border": null,
            "align_items": null,
            "bottom": null,
            "_model_module": "@jupyter-widgets/base",
            "top": null,
            "grid_column": null,
            "overflow_y": null,
            "overflow_x": null,
            "grid_auto_flow": null,
            "grid_area": null,
            "grid_template_columns": null,
            "flex": null,
            "_model_name": "LayoutModel",
            "justify_items": null,
            "grid_row": null,
            "max_height": null,
            "align_content": null,
            "visibility": null,
            "align_self": null,
            "height": null,
            "min_height": null,
            "padding": null,
            "grid_auto_rows": null,
            "grid_gap": null,
            "max_width": null,
            "order": null,
            "_view_module_version": "1.2.0",
            "grid_template_areas": null,
            "object_position": null,
            "object_fit": null,
            "grid_auto_columns": null,
            "margin": null,
            "display": null,
            "left": null
          }
        },
        "9ff2b0e8c2c94f2394f3e2421affe65f": {
          "model_module": "@jupyter-widgets/controls",
          "model_name": "DescriptionStyleModel",
          "state": {
            "_view_name": "StyleView",
            "_model_name": "DescriptionStyleModel",
            "description_width": "",
            "_view_module": "@jupyter-widgets/base",
            "_model_module_version": "1.5.0",
            "_view_count": null,
            "_view_module_version": "1.2.0",
            "_model_module": "@jupyter-widgets/controls"
          }
        },
        "fc58c288ac1f4d7cb282ac28842e9456": {
          "model_module": "@jupyter-widgets/base",
          "model_name": "LayoutModel",
          "state": {
            "_view_name": "LayoutView",
            "grid_template_rows": null,
            "right": null,
            "justify_content": null,
            "_view_module": "@jupyter-widgets/base",
            "overflow": null,
            "_model_module_version": "1.2.0",
            "_view_count": null,
            "flex_flow": null,
            "width": null,
            "min_width": null,
            "border": null,
            "align_items": null,
            "bottom": null,
            "_model_module": "@jupyter-widgets/base",
            "top": null,
            "grid_column": null,
            "overflow_y": null,
            "overflow_x": null,
            "grid_auto_flow": null,
            "grid_area": null,
            "grid_template_columns": null,
            "flex": null,
            "_model_name": "LayoutModel",
            "justify_items": null,
            "grid_row": null,
            "max_height": null,
            "align_content": null,
            "visibility": null,
            "align_self": null,
            "height": null,
            "min_height": null,
            "padding": null,
            "grid_auto_rows": null,
            "grid_gap": null,
            "max_width": null,
            "order": null,
            "_view_module_version": "1.2.0",
            "grid_template_areas": null,
            "object_position": null,
            "object_fit": null,
            "grid_auto_columns": null,
            "margin": null,
            "display": null,
            "left": null
          }
        },
        "a4446cf25d5a4e12826994b6cf0afe0f": {
          "model_module": "@jupyter-widgets/controls",
          "model_name": "HBoxModel",
          "state": {
            "_view_name": "HBoxView",
            "_dom_classes": [],
            "_model_name": "HBoxModel",
            "_view_module": "@jupyter-widgets/controls",
            "_model_module_version": "1.5.0",
            "_view_count": null,
            "_view_module_version": "1.5.0",
            "box_style": "",
            "layout": "IPY_MODEL_53b2e6dca91b4c3997446e3e14557d2a",
            "_model_module": "@jupyter-widgets/controls",
            "children": [
              "IPY_MODEL_5fa75902c8a04e61b5ba16bfc18fcdfb",
              "IPY_MODEL_e3f1f38f74ce4faea39d6ca3f686fb5f"
            ]
          }
        },
        "53b2e6dca91b4c3997446e3e14557d2a": {
          "model_module": "@jupyter-widgets/base",
          "model_name": "LayoutModel",
          "state": {
            "_view_name": "LayoutView",
            "grid_template_rows": null,
            "right": null,
            "justify_content": null,
            "_view_module": "@jupyter-widgets/base",
            "overflow": null,
            "_model_module_version": "1.2.0",
            "_view_count": null,
            "flex_flow": null,
            "width": null,
            "min_width": null,
            "border": null,
            "align_items": null,
            "bottom": null,
            "_model_module": "@jupyter-widgets/base",
            "top": null,
            "grid_column": null,
            "overflow_y": null,
            "overflow_x": null,
            "grid_auto_flow": null,
            "grid_area": null,
            "grid_template_columns": null,
            "flex": null,
            "_model_name": "LayoutModel",
            "justify_items": null,
            "grid_row": null,
            "max_height": null,
            "align_content": null,
            "visibility": null,
            "align_self": null,
            "height": null,
            "min_height": null,
            "padding": null,
            "grid_auto_rows": null,
            "grid_gap": null,
            "max_width": null,
            "order": null,
            "_view_module_version": "1.2.0",
            "grid_template_areas": null,
            "object_position": null,
            "object_fit": null,
            "grid_auto_columns": null,
            "margin": null,
            "display": null,
            "left": null
          }
        },
        "5fa75902c8a04e61b5ba16bfc18fcdfb": {
          "model_module": "@jupyter-widgets/controls",
          "model_name": "FloatProgressModel",
          "state": {
            "_view_name": "ProgressView",
            "style": "IPY_MODEL_eef0adebd6284272b9396561a361d1d5",
            "_dom_classes": [],
            "description": "Shuffling scientific_papers-validation.tfrecord...: 100%",
            "_model_name": "FloatProgressModel",
            "bar_style": "",
            "max": 6633,
            "_view_module": "@jupyter-widgets/controls",
            "_model_module_version": "1.5.0",
            "value": 6633,
            "_view_count": null,
            "_view_module_version": "1.5.0",
            "orientation": "horizontal",
            "min": 0,
            "description_tooltip": null,
            "_model_module": "@jupyter-widgets/controls",
            "layout": "IPY_MODEL_4f7406ac401549f8b7df7ba6dc8c5617"
          }
        },
        "e3f1f38f74ce4faea39d6ca3f686fb5f": {
          "model_module": "@jupyter-widgets/controls",
          "model_name": "HTMLModel",
          "state": {
            "_view_name": "HTMLView",
            "style": "IPY_MODEL_fa2af4a095ad4c2fa46f16cebb8ecf5a",
            "_dom_classes": [],
            "description": "",
            "_model_name": "HTMLModel",
            "placeholder": "​",
            "_view_module": "@jupyter-widgets/controls",
            "_model_module_version": "1.5.0",
            "value": " 6633/6633 [00:00&lt;00:00, 20337.36 examples/s]",
            "_view_count": null,
            "_view_module_version": "1.5.0",
            "description_tooltip": null,
            "_model_module": "@jupyter-widgets/controls",
            "layout": "IPY_MODEL_54026b8025304cc08bcf14f05293e455"
          }
        },
        "eef0adebd6284272b9396561a361d1d5": {
          "model_module": "@jupyter-widgets/controls",
          "model_name": "ProgressStyleModel",
          "state": {
            "_view_name": "StyleView",
            "_model_name": "ProgressStyleModel",
            "description_width": "initial",
            "_view_module": "@jupyter-widgets/base",
            "_model_module_version": "1.5.0",
            "_view_count": null,
            "_view_module_version": "1.2.0",
            "bar_color": null,
            "_model_module": "@jupyter-widgets/controls"
          }
        },
        "4f7406ac401549f8b7df7ba6dc8c5617": {
          "model_module": "@jupyter-widgets/base",
          "model_name": "LayoutModel",
          "state": {
            "_view_name": "LayoutView",
            "grid_template_rows": null,
            "right": null,
            "justify_content": null,
            "_view_module": "@jupyter-widgets/base",
            "overflow": null,
            "_model_module_version": "1.2.0",
            "_view_count": null,
            "flex_flow": null,
            "width": null,
            "min_width": null,
            "border": null,
            "align_items": null,
            "bottom": null,
            "_model_module": "@jupyter-widgets/base",
            "top": null,
            "grid_column": null,
            "overflow_y": null,
            "overflow_x": null,
            "grid_auto_flow": null,
            "grid_area": null,
            "grid_template_columns": null,
            "flex": null,
            "_model_name": "LayoutModel",
            "justify_items": null,
            "grid_row": null,
            "max_height": null,
            "align_content": null,
            "visibility": null,
            "align_self": null,
            "height": null,
            "min_height": null,
            "padding": null,
            "grid_auto_rows": null,
            "grid_gap": null,
            "max_width": null,
            "order": null,
            "_view_module_version": "1.2.0",
            "grid_template_areas": null,
            "object_position": null,
            "object_fit": null,
            "grid_auto_columns": null,
            "margin": null,
            "display": null,
            "left": null
          }
        },
        "fa2af4a095ad4c2fa46f16cebb8ecf5a": {
          "model_module": "@jupyter-widgets/controls",
          "model_name": "DescriptionStyleModel",
          "state": {
            "_view_name": "StyleView",
            "_model_name": "DescriptionStyleModel",
            "description_width": "",
            "_view_module": "@jupyter-widgets/base",
            "_model_module_version": "1.5.0",
            "_view_count": null,
            "_view_module_version": "1.2.0",
            "_model_module": "@jupyter-widgets/controls"
          }
        },
        "54026b8025304cc08bcf14f05293e455": {
          "model_module": "@jupyter-widgets/base",
          "model_name": "LayoutModel",
          "state": {
            "_view_name": "LayoutView",
            "grid_template_rows": null,
            "right": null,
            "justify_content": null,
            "_view_module": "@jupyter-widgets/base",
            "overflow": null,
            "_model_module_version": "1.2.0",
            "_view_count": null,
            "flex_flow": null,
            "width": null,
            "min_width": null,
            "border": null,
            "align_items": null,
            "bottom": null,
            "_model_module": "@jupyter-widgets/base",
            "top": null,
            "grid_column": null,
            "overflow_y": null,
            "overflow_x": null,
            "grid_auto_flow": null,
            "grid_area": null,
            "grid_template_columns": null,
            "flex": null,
            "_model_name": "LayoutModel",
            "justify_items": null,
            "grid_row": null,
            "max_height": null,
            "align_content": null,
            "visibility": null,
            "align_self": null,
            "height": null,
            "min_height": null,
            "padding": null,
            "grid_auto_rows": null,
            "grid_gap": null,
            "max_width": null,
            "order": null,
            "_view_module_version": "1.2.0",
            "grid_template_areas": null,
            "object_position": null,
            "object_fit": null,
            "grid_auto_columns": null,
            "margin": null,
            "display": null,
            "left": null
          }
        },
        "0987be5a38bd47428f67221f71dcc630": {
          "model_module": "@jupyter-widgets/controls",
          "model_name": "HBoxModel",
          "state": {
            "_view_name": "HBoxView",
            "_dom_classes": [],
            "_model_name": "HBoxModel",
            "_view_module": "@jupyter-widgets/controls",
            "_model_module_version": "1.5.0",
            "_view_count": null,
            "_view_module_version": "1.5.0",
            "box_style": "",
            "layout": "IPY_MODEL_148f944436724cf685350689c63bf637",
            "_model_module": "@jupyter-widgets/controls",
            "children": [
              "IPY_MODEL_c0cd1fd21c9f43d19a634e8c91fd5631",
              "IPY_MODEL_c702342ace8d47279daa823b8e225851"
            ]
          }
        },
        "148f944436724cf685350689c63bf637": {
          "model_module": "@jupyter-widgets/base",
          "model_name": "LayoutModel",
          "state": {
            "_view_name": "LayoutView",
            "grid_template_rows": null,
            "right": null,
            "justify_content": null,
            "_view_module": "@jupyter-widgets/base",
            "overflow": null,
            "_model_module_version": "1.2.0",
            "_view_count": null,
            "flex_flow": null,
            "width": null,
            "min_width": null,
            "border": null,
            "align_items": null,
            "bottom": null,
            "_model_module": "@jupyter-widgets/base",
            "top": null,
            "grid_column": null,
            "overflow_y": null,
            "overflow_x": null,
            "grid_auto_flow": null,
            "grid_area": null,
            "grid_template_columns": null,
            "flex": null,
            "_model_name": "LayoutModel",
            "justify_items": null,
            "grid_row": null,
            "max_height": null,
            "align_content": null,
            "visibility": null,
            "align_self": null,
            "height": null,
            "min_height": null,
            "padding": null,
            "grid_auto_rows": null,
            "grid_gap": null,
            "max_width": null,
            "order": null,
            "_view_module_version": "1.2.0",
            "grid_template_areas": null,
            "object_position": null,
            "object_fit": null,
            "grid_auto_columns": null,
            "margin": null,
            "display": null,
            "left": null
          }
        },
        "c0cd1fd21c9f43d19a634e8c91fd5631": {
          "model_module": "@jupyter-widgets/controls",
          "model_name": "FloatProgressModel",
          "state": {
            "_view_name": "ProgressView",
            "style": "IPY_MODEL_683763d23d944ceebefb73e791a392c3",
            "_dom_classes": [],
            "description": "Generating test examples...: 100%",
            "_model_name": "FloatProgressModel",
            "bar_style": "",
            "max": 6658,
            "_view_module": "@jupyter-widgets/controls",
            "_model_module_version": "1.5.0",
            "value": 6658,
            "_view_count": null,
            "_view_module_version": "1.5.0",
            "orientation": "horizontal",
            "min": 0,
            "description_tooltip": null,
            "_model_module": "@jupyter-widgets/controls",
            "layout": "IPY_MODEL_51ff93a91d7f495185fce911ff8bb496"
          }
        },
        "c702342ace8d47279daa823b8e225851": {
          "model_module": "@jupyter-widgets/controls",
          "model_name": "HTMLModel",
          "state": {
            "_view_name": "HTMLView",
            "style": "IPY_MODEL_e4656737e4ac456eaba64301cbb6313b",
            "_dom_classes": [],
            "description": "",
            "_model_name": "HTMLModel",
            "placeholder": "​",
            "_view_module": "@jupyter-widgets/controls",
            "_model_module_version": "1.5.0",
            "value": " 6658/6658 [00:03&lt;00:00, 1894.73 examples/s]",
            "_view_count": null,
            "_view_module_version": "1.5.0",
            "description_tooltip": null,
            "_model_module": "@jupyter-widgets/controls",
            "layout": "IPY_MODEL_028c9e61416b4783b293d7a532b4f08e"
          }
        },
        "683763d23d944ceebefb73e791a392c3": {
          "model_module": "@jupyter-widgets/controls",
          "model_name": "ProgressStyleModel",
          "state": {
            "_view_name": "StyleView",
            "_model_name": "ProgressStyleModel",
            "description_width": "initial",
            "_view_module": "@jupyter-widgets/base",
            "_model_module_version": "1.5.0",
            "_view_count": null,
            "_view_module_version": "1.2.0",
            "bar_color": null,
            "_model_module": "@jupyter-widgets/controls"
          }
        },
        "51ff93a91d7f495185fce911ff8bb496": {
          "model_module": "@jupyter-widgets/base",
          "model_name": "LayoutModel",
          "state": {
            "_view_name": "LayoutView",
            "grid_template_rows": null,
            "right": null,
            "justify_content": null,
            "_view_module": "@jupyter-widgets/base",
            "overflow": null,
            "_model_module_version": "1.2.0",
            "_view_count": null,
            "flex_flow": null,
            "width": null,
            "min_width": null,
            "border": null,
            "align_items": null,
            "bottom": null,
            "_model_module": "@jupyter-widgets/base",
            "top": null,
            "grid_column": null,
            "overflow_y": null,
            "overflow_x": null,
            "grid_auto_flow": null,
            "grid_area": null,
            "grid_template_columns": null,
            "flex": null,
            "_model_name": "LayoutModel",
            "justify_items": null,
            "grid_row": null,
            "max_height": null,
            "align_content": null,
            "visibility": null,
            "align_self": null,
            "height": null,
            "min_height": null,
            "padding": null,
            "grid_auto_rows": null,
            "grid_gap": null,
            "max_width": null,
            "order": null,
            "_view_module_version": "1.2.0",
            "grid_template_areas": null,
            "object_position": null,
            "object_fit": null,
            "grid_auto_columns": null,
            "margin": null,
            "display": null,
            "left": null
          }
        },
        "e4656737e4ac456eaba64301cbb6313b": {
          "model_module": "@jupyter-widgets/controls",
          "model_name": "DescriptionStyleModel",
          "state": {
            "_view_name": "StyleView",
            "_model_name": "DescriptionStyleModel",
            "description_width": "",
            "_view_module": "@jupyter-widgets/base",
            "_model_module_version": "1.5.0",
            "_view_count": null,
            "_view_module_version": "1.2.0",
            "_model_module": "@jupyter-widgets/controls"
          }
        },
        "028c9e61416b4783b293d7a532b4f08e": {
          "model_module": "@jupyter-widgets/base",
          "model_name": "LayoutModel",
          "state": {
            "_view_name": "LayoutView",
            "grid_template_rows": null,
            "right": null,
            "justify_content": null,
            "_view_module": "@jupyter-widgets/base",
            "overflow": null,
            "_model_module_version": "1.2.0",
            "_view_count": null,
            "flex_flow": null,
            "width": null,
            "min_width": null,
            "border": null,
            "align_items": null,
            "bottom": null,
            "_model_module": "@jupyter-widgets/base",
            "top": null,
            "grid_column": null,
            "overflow_y": null,
            "overflow_x": null,
            "grid_auto_flow": null,
            "grid_area": null,
            "grid_template_columns": null,
            "flex": null,
            "_model_name": "LayoutModel",
            "justify_items": null,
            "grid_row": null,
            "max_height": null,
            "align_content": null,
            "visibility": null,
            "align_self": null,
            "height": null,
            "min_height": null,
            "padding": null,
            "grid_auto_rows": null,
            "grid_gap": null,
            "max_width": null,
            "order": null,
            "_view_module_version": "1.2.0",
            "grid_template_areas": null,
            "object_position": null,
            "object_fit": null,
            "grid_auto_columns": null,
            "margin": null,
            "display": null,
            "left": null
          }
        },
        "fc8717be342d4f4cb5ba621311fa00ce": {
          "model_module": "@jupyter-widgets/controls",
          "model_name": "HBoxModel",
          "state": {
            "_view_name": "HBoxView",
            "_dom_classes": [],
            "_model_name": "HBoxModel",
            "_view_module": "@jupyter-widgets/controls",
            "_model_module_version": "1.5.0",
            "_view_count": null,
            "_view_module_version": "1.5.0",
            "box_style": "",
            "layout": "IPY_MODEL_69a27897f91c435f865328bbf8c68e16",
            "_model_module": "@jupyter-widgets/controls",
            "children": [
              "IPY_MODEL_a60a69133e5942539fe80ac8afdc49d4",
              "IPY_MODEL_003c83dc1c134b0a9d1aae01372d739a"
            ]
          }
        },
        "69a27897f91c435f865328bbf8c68e16": {
          "model_module": "@jupyter-widgets/base",
          "model_name": "LayoutModel",
          "state": {
            "_view_name": "LayoutView",
            "grid_template_rows": null,
            "right": null,
            "justify_content": null,
            "_view_module": "@jupyter-widgets/base",
            "overflow": null,
            "_model_module_version": "1.2.0",
            "_view_count": null,
            "flex_flow": null,
            "width": null,
            "min_width": null,
            "border": null,
            "align_items": null,
            "bottom": null,
            "_model_module": "@jupyter-widgets/base",
            "top": null,
            "grid_column": null,
            "overflow_y": null,
            "overflow_x": null,
            "grid_auto_flow": null,
            "grid_area": null,
            "grid_template_columns": null,
            "flex": null,
            "_model_name": "LayoutModel",
            "justify_items": null,
            "grid_row": null,
            "max_height": null,
            "align_content": null,
            "visibility": null,
            "align_self": null,
            "height": null,
            "min_height": null,
            "padding": null,
            "grid_auto_rows": null,
            "grid_gap": null,
            "max_width": null,
            "order": null,
            "_view_module_version": "1.2.0",
            "grid_template_areas": null,
            "object_position": null,
            "object_fit": null,
            "grid_auto_columns": null,
            "margin": null,
            "display": null,
            "left": null
          }
        },
        "a60a69133e5942539fe80ac8afdc49d4": {
          "model_module": "@jupyter-widgets/controls",
          "model_name": "FloatProgressModel",
          "state": {
            "_view_name": "ProgressView",
            "style": "IPY_MODEL_6443184546d14e669de0f9375f17d394",
            "_dom_classes": [],
            "description": "Shuffling scientific_papers-test.tfrecord...: 100%",
            "_model_name": "FloatProgressModel",
            "bar_style": "",
            "max": 6658,
            "_view_module": "@jupyter-widgets/controls",
            "_model_module_version": "1.5.0",
            "value": 6658,
            "_view_count": null,
            "_view_module_version": "1.5.0",
            "orientation": "horizontal",
            "min": 0,
            "description_tooltip": null,
            "_model_module": "@jupyter-widgets/controls",
            "layout": "IPY_MODEL_7b5cfef2770641b1892de64ae8af2185"
          }
        },
        "003c83dc1c134b0a9d1aae01372d739a": {
          "model_module": "@jupyter-widgets/controls",
          "model_name": "HTMLModel",
          "state": {
            "_view_name": "HTMLView",
            "style": "IPY_MODEL_eda1af6e58df46eaa68004757a908216",
            "_dom_classes": [],
            "description": "",
            "_model_name": "HTMLModel",
            "placeholder": "​",
            "_view_module": "@jupyter-widgets/controls",
            "_model_module_version": "1.5.0",
            "value": " 6658/6658 [00:00&lt;00:00, 29178.20 examples/s]",
            "_view_count": null,
            "_view_module_version": "1.5.0",
            "description_tooltip": null,
            "_model_module": "@jupyter-widgets/controls",
            "layout": "IPY_MODEL_4e91d7d212e74719875cb2d7501e3b00"
          }
        },
        "6443184546d14e669de0f9375f17d394": {
          "model_module": "@jupyter-widgets/controls",
          "model_name": "ProgressStyleModel",
          "state": {
            "_view_name": "StyleView",
            "_model_name": "ProgressStyleModel",
            "description_width": "initial",
            "_view_module": "@jupyter-widgets/base",
            "_model_module_version": "1.5.0",
            "_view_count": null,
            "_view_module_version": "1.2.0",
            "bar_color": null,
            "_model_module": "@jupyter-widgets/controls"
          }
        },
        "7b5cfef2770641b1892de64ae8af2185": {
          "model_module": "@jupyter-widgets/base",
          "model_name": "LayoutModel",
          "state": {
            "_view_name": "LayoutView",
            "grid_template_rows": null,
            "right": null,
            "justify_content": null,
            "_view_module": "@jupyter-widgets/base",
            "overflow": null,
            "_model_module_version": "1.2.0",
            "_view_count": null,
            "flex_flow": null,
            "width": null,
            "min_width": null,
            "border": null,
            "align_items": null,
            "bottom": null,
            "_model_module": "@jupyter-widgets/base",
            "top": null,
            "grid_column": null,
            "overflow_y": null,
            "overflow_x": null,
            "grid_auto_flow": null,
            "grid_area": null,
            "grid_template_columns": null,
            "flex": null,
            "_model_name": "LayoutModel",
            "justify_items": null,
            "grid_row": null,
            "max_height": null,
            "align_content": null,
            "visibility": null,
            "align_self": null,
            "height": null,
            "min_height": null,
            "padding": null,
            "grid_auto_rows": null,
            "grid_gap": null,
            "max_width": null,
            "order": null,
            "_view_module_version": "1.2.0",
            "grid_template_areas": null,
            "object_position": null,
            "object_fit": null,
            "grid_auto_columns": null,
            "margin": null,
            "display": null,
            "left": null
          }
        },
        "eda1af6e58df46eaa68004757a908216": {
          "model_module": "@jupyter-widgets/controls",
          "model_name": "DescriptionStyleModel",
          "state": {
            "_view_name": "StyleView",
            "_model_name": "DescriptionStyleModel",
            "description_width": "",
            "_view_module": "@jupyter-widgets/base",
            "_model_module_version": "1.5.0",
            "_view_count": null,
            "_view_module_version": "1.2.0",
            "_model_module": "@jupyter-widgets/controls"
          }
        },
        "4e91d7d212e74719875cb2d7501e3b00": {
          "model_module": "@jupyter-widgets/base",
          "model_name": "LayoutModel",
          "state": {
            "_view_name": "LayoutView",
            "grid_template_rows": null,
            "right": null,
            "justify_content": null,
            "_view_module": "@jupyter-widgets/base",
            "overflow": null,
            "_model_module_version": "1.2.0",
            "_view_count": null,
            "flex_flow": null,
            "width": null,
            "min_width": null,
            "border": null,
            "align_items": null,
            "bottom": null,
            "_model_module": "@jupyter-widgets/base",
            "top": null,
            "grid_column": null,
            "overflow_y": null,
            "overflow_x": null,
            "grid_auto_flow": null,
            "grid_area": null,
            "grid_template_columns": null,
            "flex": null,
            "_model_name": "LayoutModel",
            "justify_items": null,
            "grid_row": null,
            "max_height": null,
            "align_content": null,
            "visibility": null,
            "align_self": null,
            "height": null,
            "min_height": null,
            "padding": null,
            "grid_auto_rows": null,
            "grid_gap": null,
            "max_width": null,
            "order": null,
            "_view_module_version": "1.2.0",
            "grid_template_areas": null,
            "object_position": null,
            "object_fit": null,
            "grid_auto_columns": null,
            "margin": null,
            "display": null,
            "left": null
          }
        }
      }
    }
  },
  "cells": [
    {
      "cell_type": "markdown",
      "metadata": {
        "id": "6CODJ2BDEdTN"
      },
      "source": [
        "\n",
        "<a href=\"https://colab.research.google.com/github/google-research/bigbird/blob/master/bigbird/summarization/eval.ipynb\" target=\"_parent\"><img src=\"https://colab.research.google.com/assets/colab-badge.svg\" alt=\"Open In Colab\"/></a>"
      ]
    },
    {
      "cell_type": "markdown",
      "metadata": {
        "id": "YEhLwgZwEWdw"
      },
      "source": [
        "##### Copyright 2020 The BigBird Authors\n",
        "\n",
        "Licensed under the Apache License, Version 2.0 (the \"License\");"
      ]
    },
    {
      "cell_type": "code",
      "metadata": {
        "id": "BAEheXiPEUAF"
      },
      "source": [
        "# Copyright 2020 The BigBird Authors. All Rights Reserved.\n",
        "#\n",
        "# Licensed under the Apache License, Version 2.0 (the \"License\");\n",
        "# you may not use this file except in compliance with the License.\n",
        "# You may obtain a copy of the License at\n",
        "#\n",
        "#     http://www.apache.org/licenses/LICENSE-2.0\n",
        "#\n",
        "# Unless required by applicable law or agreed to in writing, software\n",
        "# distributed under the License is distributed on an \"AS IS\" BASIS,\n",
        "# WITHOUT WARRANTIES OR CONDITIONS OF ANY KIND, either express or implied.\n",
        "# See the License for the specific language governing permissions and\n",
        "# limitations under the License.\n",
        "# =============================================================================="
      ],
      "execution_count": null,
      "outputs": []
    },
    {
      "cell_type": "code",
      "metadata": {
        "id": "zMotUClMFbHj",
        "colab": {
          "base_uri": "https://localhost:8080/"
        },
        "outputId": "20e01404-5e9c-4b21-8884-31fe93643107"
      },
      "source": [
        "!pip install git+https://github.com/google-research/bigbird.git -q"
      ],
      "execution_count": 1,
      "outputs": [
        {
          "output_type": "stream",
          "text": [
            "\u001b[K     |████████████████████████████████| 1.2MB 11.5MB/s \n",
            "\u001b[K     |████████████████████████████████| 4.3MB 50.3MB/s \n",
            "\u001b[K     |████████████████████████████████| 1.5MB 52.7MB/s \n",
            "\u001b[K     |████████████████████████████████| 3.9MB 49.5MB/s \n",
            "\u001b[K     |████████████████████████████████| 368kB 49.6MB/s \n",
            "\u001b[K     |████████████████████████████████| 655kB 46.7MB/s \n",
            "\u001b[K     |████████████████████████████████| 983kB 48.3MB/s \n",
            "\u001b[K     |████████████████████████████████| 358kB 48.5MB/s \n",
            "\u001b[K     |████████████████████████████████| 686kB 47.7MB/s \n",
            "\u001b[K     |████████████████████████████████| 194kB 56.5MB/s \n",
            "\u001b[K     |████████████████████████████████| 81kB 11.5MB/s \n",
            "\u001b[K     |████████████████████████████████| 5.6MB 42.0MB/s \n",
            "\u001b[K     |████████████████████████████████| 368kB 48.2MB/s \n",
            "\u001b[K     |████████████████████████████████| 256kB 53.2MB/s \n",
            "\u001b[?25h  Building wheel for bigbird (setup.py) ... \u001b[?25l\u001b[?25hdone\n",
            "  Building wheel for pypng (setup.py) ... \u001b[?25l\u001b[?25hdone\n",
            "  Building wheel for bz2file (setup.py) ... \u001b[?25l\u001b[?25hdone\n",
            "\u001b[31mERROR: kfac 0.2.3 has requirement tensorflow-probability==0.8, but you'll have tensorflow-probability 0.7.0 which is incompatible.\u001b[0m\n"
          ],
          "name": "stdout"
        }
      ]
    },
    {
      "cell_type": "code",
      "metadata": {
        "id": "qFqiLMrtELV-"
      },
      "source": [
        "import tensorflow.compat.v2 as tf\n",
        "import tensorflow_datasets as tfds\n",
        "import tensorflow_text as tft\n",
        "from tqdm import tqdm\n",
        "\n",
        "tf.enable_v2_behavior()"
      ],
      "execution_count": 2,
      "outputs": []
    },
    {
      "cell_type": "markdown",
      "metadata": {
        "id": "1W572kOSHHI2"
      },
      "source": [
        "## Load Saved Model"
      ]
    },
    {
      "cell_type": "code",
      "metadata": {
        "id": "k4oqa8sHErHq",
        "colab": {
          "base_uri": "https://localhost:8080/"
        },
        "outputId": "6b5dbdd0-8393-4d4e-9bf5-c4573a13306a"
      },
      "source": [
        "path = 'gs://bigbird-transformer/summarization/pubmed/roberta/saved_model'\n",
        "imported_model = tf.saved_model.load(path, tags='serve')\n",
        "summerize = imported_model.signatures['serving_default']"
      ],
      "execution_count": 3,
      "outputs": [
        {
          "output_type": "stream",
          "text": [
            "WARNING:tensorflow:Unable to create a python object for variable <tf.Variable 'bert/embeddings/word_embeddings:0' shape=(50358, 768) dtype=float32_ref> because it is a reference variable. It may not be visible to training APIs. If this is a problem, consider rebuilding the SavedModel after running tf.compat.v1.enable_resource_variables().\n",
            "WARNING:tensorflow:Unable to create a python object for variable <tf.Variable 'bert/embeddings/position_embeddings:0' shape=(4096, 768) dtype=float32_ref> because it is a reference variable. It may not be visible to training APIs. If this is a problem, consider rebuilding the SavedModel after running tf.compat.v1.enable_resource_variables().\n",
            "WARNING:tensorflow:Unable to create a python object for variable <tf.Variable 'bert/encoder/LayerNorm/beta:0' shape=(768,) dtype=float32_ref> because it is a reference variable. It may not be visible to training APIs. If this is a problem, consider rebuilding the SavedModel after running tf.compat.v1.enable_resource_variables().\n",
            "WARNING:tensorflow:Unable to create a python object for variable <tf.Variable 'bert/encoder/LayerNorm/gamma:0' shape=(768,) dtype=float32_ref> because it is a reference variable. It may not be visible to training APIs. If this is a problem, consider rebuilding the SavedModel after running tf.compat.v1.enable_resource_variables().\n",
            "WARNING:tensorflow:Unable to create a python object for variable <tf.Variable 'bert/encoder/layer_0/attention/self/query/kernel:0' shape=(768, 768) dtype=float32_ref> because it is a reference variable. It may not be visible to training APIs. If this is a problem, consider rebuilding the SavedModel after running tf.compat.v1.enable_resource_variables().\n",
            "WARNING:tensorflow:Unable to create a python object for variable <tf.Variable 'bert/embeddings/word_embeddings:0' shape=(50358, 768) dtype=float32_ref> because it is a reference variable. It may not be visible to training APIs. If this is a problem, consider rebuilding the SavedModel after running tf.compat.v1.enable_resource_variables().\n",
            "WARNING:tensorflow:Unable to create a python object for variable <tf.Variable 'bert/embeddings/position_embeddings:0' shape=(4096, 768) dtype=float32_ref> because it is a reference variable. It may not be visible to training APIs. If this is a problem, consider rebuilding the SavedModel after running tf.compat.v1.enable_resource_variables().\n",
            "WARNING:tensorflow:Unable to create a python object for variable <tf.Variable 'bert/encoder/LayerNorm/beta:0' shape=(768,) dtype=float32_ref> because it is a reference variable. It may not be visible to training APIs. If this is a problem, consider rebuilding the SavedModel after running tf.compat.v1.enable_resource_variables().\n",
            "WARNING:tensorflow:Unable to create a python object for variable <tf.Variable 'bert/encoder/LayerNorm/gamma:0' shape=(768,) dtype=float32_ref> because it is a reference variable. It may not be visible to training APIs. If this is a problem, consider rebuilding the SavedModel after running tf.compat.v1.enable_resource_variables().\n",
            "WARNING:tensorflow:Unable to create a python object for variable <tf.Variable 'bert/encoder/layer_0/attention/self/query/kernel:0' shape=(768, 768) dtype=float32_ref> because it is a reference variable. It may not be visible to training APIs. If this is a problem, consider rebuilding the SavedModel after running tf.compat.v1.enable_resource_variables().\n",
            "WARNING:tensorflow:Unable to create a python object for variable <tf.Variable 'bert/embeddings/word_embeddings:0' shape=(50358, 768) dtype=float32_ref> because it is a reference variable. It may not be visible to training APIs. If this is a problem, consider rebuilding the SavedModel after running tf.compat.v1.enable_resource_variables().\n",
            "WARNING:tensorflow:Unable to create a python object for variable <tf.Variable 'bert/embeddings/position_embeddings:0' shape=(4096, 768) dtype=float32_ref> because it is a reference variable. It may not be visible to training APIs. If this is a problem, consider rebuilding the SavedModel after running tf.compat.v1.enable_resource_variables().\n",
            "WARNING:tensorflow:Unable to create a python object for variable <tf.Variable 'bert/encoder/LayerNorm/beta:0' shape=(768,) dtype=float32_ref> because it is a reference variable. It may not be visible to training APIs. If this is a problem, consider rebuilding the SavedModel after running tf.compat.v1.enable_resource_variables().\n",
            "WARNING:tensorflow:Unable to create a python object for variable <tf.Variable 'bert/encoder/LayerNorm/gamma:0' shape=(768,) dtype=float32_ref> because it is a reference variable. It may not be visible to training APIs. If this is a problem, consider rebuilding the SavedModel after running tf.compat.v1.enable_resource_variables().\n",
            "WARNING:tensorflow:Unable to create a python object for variable <tf.Variable 'bert/encoder/layer_0/attention/self/query/kernel:0' shape=(768, 768) dtype=float32_ref> because it is a reference variable. It may not be visible to training APIs. If this is a problem, consider rebuilding the SavedModel after running tf.compat.v1.enable_resource_variables().\n",
            "WARNING:tensorflow:Unable to create a python object for variable <tf.Variable 'bert/embeddings/word_embeddings:0' shape=(50358, 768) dtype=float32_ref> because it is a reference variable. It may not be visible to training APIs. If this is a problem, consider rebuilding the SavedModel after running tf.compat.v1.enable_resource_variables().\n",
            "WARNING:tensorflow:Unable to create a python object for variable <tf.Variable 'bert/embeddings/position_embeddings:0' shape=(4096, 768) dtype=float32_ref> because it is a reference variable. It may not be visible to training APIs. If this is a problem, consider rebuilding the SavedModel after running tf.compat.v1.enable_resource_variables().\n",
            "WARNING:tensorflow:Unable to create a python object for variable <tf.Variable 'bert/encoder/LayerNorm/beta:0' shape=(768,) dtype=float32_ref> because it is a reference variable. It may not be visible to training APIs. If this is a problem, consider rebuilding the SavedModel after running tf.compat.v1.enable_resource_variables().\n",
            "WARNING:tensorflow:Unable to create a python object for variable <tf.Variable 'bert/encoder/LayerNorm/gamma:0' shape=(768,) dtype=float32_ref> because it is a reference variable. It may not be visible to training APIs. If this is a problem, consider rebuilding the SavedModel after running tf.compat.v1.enable_resource_variables().\n",
            "WARNING:tensorflow:Unable to create a python object for variable <tf.Variable 'bert/encoder/layer_0/attention/self/query/kernel:0' shape=(768, 768) dtype=float32_ref> because it is a reference variable. It may not be visible to training APIs. If this is a problem, consider rebuilding the SavedModel after running tf.compat.v1.enable_resource_variables().\n"
          ],
          "name": "stdout"
        }
      ]
    },
    {
      "cell_type": "markdown",
      "metadata": {
        "id": "hfw8LCz8HJze"
      },
      "source": [
        "## Setup Data"
      ]
    },
    {
      "cell_type": "code",
      "metadata": {
        "id": "dIwHE9w6FXre",
        "colab": {
          "base_uri": "https://localhost:8080/",
          "height": 218,
          "referenced_widgets": [
            "1f0e9cc821a44be88593411facf65e8e",
            "d6904aa01a154e85957d717148c73572",
            "45111a477122448084a2d6a40a90d14a",
            "53b750d50cea4758aa38bd0c1c077e47",
            "538d056d74904490bfeb7ced8a9af55b",
            "fe9fb64c5f3d49b3b918688503e07008",
            "8d4c5d48ab1d4b0a84c8cdbb5dfe70e8",
            "231b5f266c404dfea167cd095f0036e6",
            "010413c53d6b4cd1884092bc3932ab8d",
            "b7ed6fd58f4a4d6b91893d7eda719d9c",
            "37d335878971467690bb1cdfe6823d67",
            "286c8eebce16445091bfe0667559275a",
            "adc57cd55a164bfaba44d50d290b7ac2",
            "0522c5b9e3ed4bf2b9e7056b41775c88",
            "5325fd7ec48b45419c6d7ab7dddaab1b",
            "7a5cd0b314d14aa78d4696e3ea4dc295",
            "1cc106784d4d437e87a254e91f03cf9c",
            "a9b2c63213384dab8585aeaafe0ce866",
            "84025f7942994f31ad668b178f7523f6",
            "701ee75d07604324973528259de6fd76",
            "41e51740e1114bba9d97c8a376d9227c",
            "d17ade873ccd4debb98d71111de37b04",
            "efe4fe6e2af040a49151169d3b086f33",
            "b98e7ed83ddc4d15985f2e87788cda8d",
            "d9d682a46bfc48669586a8bb39669b99",
            "8f5986267722490491b6a0728a2fb0b9",
            "528b54976c3e45148d555f0ff44d1538",
            "05c4b787279a4e05b05e18db95510bb9",
            "c3abd7424e8743838888ff4671570b62",
            "2c586e5e408449989fd75233e51e559d",
            "9aa7e930ecbe408a87d10fc2479b7cac",
            "0d0da9f88bfa41e0b4ee3b15008b1e8a",
            "bf0bf188a73741d99a95cfc4b260a980",
            "be5057d6fcdb424fa1275fb585270fc1",
            "66d3e6fcc8c6482687a13137e9f6a5fe",
            "3f0400fb22f04f928b76c8357810752e",
            "d2ab56de38444baabf73b093372f8ee7",
            "015e8b9db7264f7485bc167df7e293d7",
            "b3e384dc90204eb393fcfd191b203439",
            "e13e385accc2458fa728e7bc0614ed02",
            "24203d5ed0bc4b259e9b1d0e08e1cbd3",
            "2e55cef0aacb4bffb8b3c3b3e9f5bad3",
            "18e09e03d43749c6a3dfef76070f2cb3",
            "12e3b277a690486e980b2ea102aba303",
            "5f46ed3cd8d84b4996b19e4efcd4f53f",
            "6a0ca6e5c62144fda13f46dc28e0fc10",
            "5799274c991d4c0dbea979c5cc255171",
            "23c56e1d094f47969b43788f6aa62527",
            "2fff60fe8ace4deda17b7ca4de44c7aa",
            "fa927a7448694b37aa0d0ac47b34f4fb",
            "813f6e10d2d34c7c87c991d7d8cc7688",
            "a3b430d1ba474af3b649528bc87d00a2",
            "16a7bb61ef8d4a8681a1c73dea58298e",
            "fd6087464a904ef485bde586ac4f59b5",
            "9ff2b0e8c2c94f2394f3e2421affe65f",
            "fc58c288ac1f4d7cb282ac28842e9456",
            "a4446cf25d5a4e12826994b6cf0afe0f",
            "53b2e6dca91b4c3997446e3e14557d2a",
            "5fa75902c8a04e61b5ba16bfc18fcdfb",
            "e3f1f38f74ce4faea39d6ca3f686fb5f",
            "eef0adebd6284272b9396561a361d1d5",
            "4f7406ac401549f8b7df7ba6dc8c5617",
            "fa2af4a095ad4c2fa46f16cebb8ecf5a",
            "54026b8025304cc08bcf14f05293e455",
            "0987be5a38bd47428f67221f71dcc630",
            "148f944436724cf685350689c63bf637",
            "c0cd1fd21c9f43d19a634e8c91fd5631",
            "c702342ace8d47279daa823b8e225851",
            "683763d23d944ceebefb73e791a392c3",
            "51ff93a91d7f495185fce911ff8bb496",
            "e4656737e4ac456eaba64301cbb6313b",
            "028c9e61416b4783b293d7a532b4f08e",
            "fc8717be342d4f4cb5ba621311fa00ce",
            "69a27897f91c435f865328bbf8c68e16",
            "a60a69133e5942539fe80ac8afdc49d4",
            "003c83dc1c134b0a9d1aae01372d739a",
            "6443184546d14e669de0f9375f17d394",
            "7b5cfef2770641b1892de64ae8af2185",
            "eda1af6e58df46eaa68004757a908216",
            "4e91d7d212e74719875cb2d7501e3b00"
          ]
        },
        "outputId": "f1e53c46-5a61-47ad-b19d-c005975a48ed"
      },
      "source": [
        "dataset = tfds.load('scientific_papers/pubmed', split='test', shuffle_files=False, as_supervised=True)"
      ],
      "execution_count": 13,
      "outputs": [
        {
          "output_type": "stream",
          "text": [
            "\u001b[1mDownloading and preparing dataset 4.20 GiB (download: 4.20 GiB, generated: 2.34 GiB, total: 6.54 GiB) to /root/tensorflow_datasets/scientific_papers/pubmed/1.1.1...\u001b[0m\n"
          ],
          "name": "stdout"
        },
        {
          "output_type": "display_data",
          "data": {
            "application/vnd.jupyter.widget-view+json": {
              "model_id": "1f0e9cc821a44be88593411facf65e8e",
              "version_minor": 0,
              "version_major": 2
            },
            "text/plain": [
              "HBox(children=(FloatProgress(value=1.0, bar_style='info', description='Dl Completed...', max=1.0, style=Progre…"
            ]
          },
          "metadata": {
            "tags": []
          }
        },
        {
          "output_type": "display_data",
          "data": {
            "application/vnd.jupyter.widget-view+json": {
              "model_id": "010413c53d6b4cd1884092bc3932ab8d",
              "version_minor": 0,
              "version_major": 2
            },
            "text/plain": [
              "HBox(children=(FloatProgress(value=1.0, bar_style='info', description='Dl Size...', max=1.0, style=ProgressSty…"
            ]
          },
          "metadata": {
            "tags": []
          }
        },
        {
          "output_type": "display_data",
          "data": {
            "application/vnd.jupyter.widget-view+json": {
              "model_id": "1cc106784d4d437e87a254e91f03cf9c",
              "version_minor": 0,
              "version_major": 2
            },
            "text/plain": [
              "HBox(children=(FloatProgress(value=1.0, bar_style='info', description='Extraction completed...', max=1.0, styl…"
            ]
          },
          "metadata": {
            "tags": []
          }
        },
        {
          "output_type": "stream",
          "text": [
            "\n",
            "\n",
            "\n"
          ],
          "name": "stdout"
        },
        {
          "output_type": "display_data",
          "data": {
            "application/vnd.jupyter.widget-view+json": {
              "model_id": "d9d682a46bfc48669586a8bb39669b99",
              "version_minor": 0,
              "version_major": 2
            },
            "text/plain": [
              "HBox(children=(FloatProgress(value=0.0, description='Generating splits...', max=3.0, style=ProgressStyle(descr…"
            ]
          },
          "metadata": {
            "tags": []
          }
        },
        {
          "output_type": "display_data",
          "data": {
            "application/vnd.jupyter.widget-view+json": {
              "model_id": "bf0bf188a73741d99a95cfc4b260a980",
              "version_minor": 0,
              "version_major": 2
            },
            "text/plain": [
              "HBox(children=(FloatProgress(value=0.0, description='Generating train examples...', max=119924.0, style=Progre…"
            ]
          },
          "metadata": {
            "tags": []
          }
        },
        {
          "output_type": "display_data",
          "data": {
            "application/vnd.jupyter.widget-view+json": {
              "model_id": "24203d5ed0bc4b259e9b1d0e08e1cbd3",
              "version_minor": 0,
              "version_major": 2
            },
            "text/plain": [
              "HBox(children=(FloatProgress(value=0.0, description='Shuffling scientific_papers-train.tfrecord...', max=11992…"
            ]
          },
          "metadata": {
            "tags": []
          }
        },
        {
          "output_type": "display_data",
          "data": {
            "application/vnd.jupyter.widget-view+json": {
              "model_id": "2fff60fe8ace4deda17b7ca4de44c7aa",
              "version_minor": 0,
              "version_major": 2
            },
            "text/plain": [
              "HBox(children=(FloatProgress(value=0.0, description='Generating validation examples...', max=6633.0, style=Pro…"
            ]
          },
          "metadata": {
            "tags": []
          }
        },
        {
          "output_type": "display_data",
          "data": {
            "application/vnd.jupyter.widget-view+json": {
              "model_id": "a4446cf25d5a4e12826994b6cf0afe0f",
              "version_minor": 0,
              "version_major": 2
            },
            "text/plain": [
              "HBox(children=(FloatProgress(value=0.0, description='Shuffling scientific_papers-validation.tfrecord...', max=…"
            ]
          },
          "metadata": {
            "tags": []
          }
        },
        {
          "output_type": "display_data",
          "data": {
            "application/vnd.jupyter.widget-view+json": {
              "model_id": "0987be5a38bd47428f67221f71dcc630",
              "version_minor": 0,
              "version_major": 2
            },
            "text/plain": [
              "HBox(children=(FloatProgress(value=0.0, description='Generating test examples...', max=6658.0, style=ProgressS…"
            ]
          },
          "metadata": {
            "tags": []
          }
        },
        {
          "output_type": "display_data",
          "data": {
            "application/vnd.jupyter.widget-view+json": {
              "model_id": "fc8717be342d4f4cb5ba621311fa00ce",
              "version_minor": 0,
              "version_major": 2
            },
            "text/plain": [
              "HBox(children=(FloatProgress(value=0.0, description='Shuffling scientific_papers-test.tfrecord...', max=6658.0…"
            ]
          },
          "metadata": {
            "tags": []
          }
        },
        {
          "output_type": "stream",
          "text": [
            "\r\u001b[1mDataset scientific_papers downloaded and prepared to /root/tensorflow_datasets/scientific_papers/pubmed/1.1.1. Subsequent calls will reuse this data.\u001b[0m\n"
          ],
          "name": "stdout"
        }
      ]
    },
    {
      "cell_type": "code",
      "metadata": {
        "colab": {
          "base_uri": "https://localhost:8080/"
        },
        "id": "dzxDpplxYEwq",
        "outputId": "4f3f165e-37bd-4d2d-9859-92d693c08561"
      },
      "source": [
        "# inspect at a few examples\n",
        "for ex in dataset.take(3):\n",
        "  print(ex)"
      ],
      "execution_count": 14,
      "outputs": [
        {
          "output_type": "stream",
          "text": [
            "(<tf.Tensor: shape=(), dtype=string, numpy=b\"hypertension ( htn ) is the most common comorbidity in the world with significant public health implications     [ 1 , 2 ] . the overall u.s .\\nprevalence of hypertension among adults ages 18 years in 20052008 was 30.9% and was highest among persons ages 65 years ( 69.7% )   and non - hispanic blacks ( 44% )     .  \\nthe american heart association estimates that the incurred costs of hypertension are more than $ 93.5  billion per year , and that cardiovascular disease and stroke for which htn is the predominant risk factor , account for 17% of the total annual health expenditures in the united states .\\nhypertension and its sequelae , heart failure ( hf ) , are a progressive disease .\\nevidence shows that less than half of patients with heart failure survive five years ( after diagnosis ) , and less than a quarter of them live ten years after their initial diagnosis .\\nframingham heart study showed that hypertensive patients were more likely to develop heart failure ( 142 cases of hf detected during the first 16 years of followup ) than those who were normotensive .\\nthe lifetime risk for development of hf among people with blood pressure ( bp ) > 160/90  mm  hg is double that of those with bp < 140/90  mm  hg .  \\nheart failure in comparison to the most prevalent gender malignancies ( bowel cancer in men and breast cancer in women ) , was associated with worse long - term survival     .\\nover a million hospitalizations , contributing to more than 250,000 deaths     , and escalating billions of dollars in health care expenditure is the norm .\\nthe disastrous duo , htn and hf , should be recognized , and a tailored focus on management in special populations , high - risk ethnic minority groups especially blacks who are disproportionately burdened should be developed .   among racial groups ,\\nafrican - american adults have the highest rates ( 44% ) of hypertension in the world      and are more resistant      to treatment .  \\nin particular , black women have the highest prevalence      and the lowest blood pressure control     .  \\nthe relative incidence of hf is 50% higher in african americans , 3% of whom have hf , compared with 2% of the general population     [ 13 , 14 ] .  \\nthe disease occurs at an earlier age , and usually at a more advanced stage   along with increased hospitalization   and mortality .\\nother causes of hf include coronary artery disease , valvular heart disease , diabetes , left ventricular hypertrophy and cardiomyopathies .  \\novert clinical hf resulting from diastolic left ventricular dysfunction may be clinically indistinguishable from that resulting from systolic dysfunction\\n. hf with preserved left ventricular function is observed in 30% to 50% of adult cases of hf .\\ncoronary artery disease and myocardial infarction is a principal cause of systolic left ventricular dysfunction followed by hypertension .\\na variety of neurohormonal systems , especially the renin - angiotensin aldosterone and sympathetic nervous systems are activated in response to the left ventricular dysfunction and such activation leads to abnormal ventricular remodeling . the inexorable progression to more severe stages of left ventricular dysfunction\\ncan be significantly reduced by effective therapy with neurohormonal blockade including angiotensin converting enzyme inhibitors ( aceis ) , beta blockers ( bbs ) , and aldosterone antagonists     .\\ncurrent understanding of the pathophysiology of hf has revolved around neurohormonal activation     [ 19 , 20 ] .  \\nthis endothelial dysfunction may result from insufficient nitric oxide ( no ) secondary to either reduced endothelial production of no or to increase no inactivation [ 17 , 19 , 21 ] . in hf , a pronounced increase in angiotensin ii , with modestly reduced no is seen among whites . however , african americans with hf may exhibit greater no reduction ; conversely , angiotensin ii might be less elevated among whites .\\nimportant studies are investigating gene variation among the races that may influence the risk of developing hypertension and its complications , such as single nucleotide polymorphisms in the genes encoding for 1-adrenergic receptors and a2c - adrenergic receptors .\\nafrican americans who are homozygous for polymorphisms in both the 1-adrenergic and a2c - adrenergic receptor genes are at a 10-fold greater risk for heart failure , which is overexpressed in african - americans .  \\ngroups with overexpression of transforming growth factor -1 ( tgf-1 ) , a cytokine involved in cardiac fibrosis and remodeling , vascular and renal disease , production of the vasoconstrictor , endothelin-1 , and stimulation of renin release , have a worse prognosis .\\nother genetic polymorphisms in african americans that may influence heart failure risk include elevated production of endothelial nitric oxide synthase , aldosterone synthase , and the g protein 825-t allele .\\n  there are two major approaches to classifying the patient 's hf stage or clinical severity .  \\nthe most common is the new york heart association ( nyha ) classification , mainly based on functional capacity and subjective level of symptoms severity .  \\nthis scheme is fluid and its class fluctuates in the same patient depending on their subjective assessment and clinical status .\\nthe other approach , adopted by the american college of cardiology / american heart association ( acc / aha ) guidelines , emphasizes disease progression\\n.   classified as stages a , b , c , and d , each of these stages has definable characteristics and recommended interventions . to emphasize the progressive nature of hf and the need to prevent its development or progression to end - stage disease ( stage d )     [ 18 , 23 ] ,\\ncurrent hf guidelines define patients in stage a as those at increased risk for hf without evidence of structural heart disease or symptoms of hf     .\\nstage a represents a critically important group because many of the risk factors including hypertension can be effectively controlled and by doing so may prevent development of cardiovascular diseases including hf .\\npatients are in stage b when they present with evidence of structural heart disease but without current or prior symptoms of hf .\\nstage c is recognized by the presence of structural heart disease and current or prior symptoms of hf .\\nstage d patients are those who have refractory heart failure requiring frequent hospitalization and specialized interventions .\\nseveral studies have shown the efficacy of treatment of hypertension in preventing hf [ 2427 ] .\\ntreatment of hypertension reduces the incidence of hf by about 50% .   in recent years\\n, significant advances have been made in increasing awareness , treatment , and control of blood pressure .\\nseveral large , randomized clinical trials have shown that specific classes of medication have mortality benefit in patients with heart failure     [ 2834 ] . in the most recent guidelines      for the diagnosis and management of hf in adults , the american college of cardiology foundation ( accf)/american heart association ( aha ) recognized the need for specific recommendations for special population .\\nlifestyle modifications have been shown to reduce blood pressure , increase drug efficacy , and decrease cardiovascular risk .\\nlong - term primary prevention of hypertension includes weight reduction in overweight / obese individuals .\\nweight loss intervention was associated with a 21% reduction in the incidence of hypertension over a 36-month period     .\\ndietary practices , reducing intake of dietary sodium to < 1.5  g nacl [ 3 , 36 ] , low potassium , magnesium , and saturated fat intake , increased calcium intake     , decreased consumption of alcohol , have demonstrated greater bp reduction in blacks    \\n. these practices are most successful when reinforced with comprehensive education and counseling     [ 39 , 40 ] .\\nexercise training , regular aerobic physical activity for at least 30 minutes per day most days , has been shown to reduce recurrent cardiac events in patients with lv dysfunction from ischemic heart disease and is recommended under close medical supervision . culturally cognizant and sensitive modalities should be implemented to help guide improved compliance of therapeutic lifestyle changes ( tlc ) in special populations     [ 43 , 44 ] . despite lifestyle modifications ,\\nmost patients with hypertension need pharmacologic therapy for better bp control . in the united states ,\\npharmacological treatment of hypertension before development of structural heart disease or symptoms of hf is mainly based on studies looking at prevention of end - organ damage .\\nspecific classes of medication are recommended for patients in stages b - d that have shown benefit in reducing mortality and number of hospitalizations .\\nthe reader should refer to the major guidelines for full treatment recommendations of hf in the general population     [ 18 , 23 , 46 ] .\\n.   however , ethnic minorities who are at greater risk for developing hf remain underrepresented in most clinical trials .   according to a recent paper by mitchell et al . \\ntreatment of hf in african americans  a call to action  , most of the available evidence is based on limited representation of african americans in these trials or posthoc analysis of limited evidence .\\nthese papers once again summarize the available evidence in hf management in african americans and call for more therapeutic trial focused in these high - risk population .  \\nthe african american heart failure trial ( a - heft ) was the first heart failure large trial to focus specifically on the african - american population and evidence represented approximately 50% of all african americans ever studied in heart failure trials     .  \\nthis is randomized placebo - controlled double blind study of fixed dose isosorbide dinitrate / hydralazine ( isbd / hyd ) ( figure 2 ) . in an effort to summarize efficacy of available treatments , psaty et al\\nthe database included 192,478 patients from 42 trials randomized to 7 treatment strategies including placebo .\\nlow - dose diuretics proved the most effective first - line treatment for preventing cardiovascular disease and mortality including hf .\\nthe allhat trial showed that diuretics are as effective as calcium channel blockers or acei in preventing cardiovascular disease outcomes including hf .\\nthe allhat study also has suggested that thiazide - diuretic therapy is useful in preventing disease progression     .  \\nalthough , allhat trials and other trials showed diuretics is the first - line of antihypertensive therapy and is still the most commonly prescribed antihypertensive medications , this is challenged by recent studies as published in february jacc and presented in the european society of htn meetings .  \\nhowever , the diuretics used in the allhat trials was chlorthalidone a long acting thiazide ( shown to effectively lower bp and improve survival ) , not really the same as hydrochlorothiazide ( hctz ) which is the most commonly prescribed antihypertensive thiazide at a dose of 12.525  mg .  \\n( st luke roosevelt hospital , new york , ny ) , published the analysis of 18 trials on   hctz where the antihypertensive effect of hctz at the dose that is most often used12.5 to 25  mg a day  is consistently inferior to that of most other antihypertensive drug .\\nthe other limitation of diuretics as first line therapy in african americans is not only not adequate but also , has multiple side effects like dm , electrolyte abnormalities and urecemia , to mention a few .  \\nhowever , there is still a role of diuretics in combination with neurohormonal ( renin angiotensin aldosterone axis ) blockade and when there is compelling indication .   according to the recent consensus statement of the international society on hypertension in blacks ( ishb ) , chlorthalidone\\nfurthermore , the ishb consensus statement reinforces , patient above goal bp ( sbp / dbp15/10 ) with ( goal bp < 130/80 ) end organ damage ( hf , lvh , kidney disease ) or without end organ damage ( goal bp < 135/85 ) should be on at least on combination pharmacotherapy .\\nuse of beta blockers ( bb ) as treatment for hypertension has come under scrutiny .\\nconducted a meta - analysis of 13 trials , which included 105,951 patients showing that atenolol did not improve outcomes in terms of stroke and cardiovascular events .\\nin stage b chf ( nyha class i ) , defined by the presence of reduced left ventricular ejection fraction ( lvef ) < 40 percent in otherwise asymptomatic individuals , aceis and bbs are recommended .\\niii ) manifest left ventricular dysfunction and overt symptoms ; in these individuals , aceis and bbs are also indicated .\\nbbs are also recommended in hf because of clinical studies demonstrating decreased morbidity and mortality , and improvement in hf symptoms .\\naldosterone antagonists may provide additional benefit in patients with severe left ventricular dysfunction , usually late stage c ( nyha class iii \\nlow - dose spironolactone ( 12.525  mg daily ) , when added to standard therapy , decreased mortality by 34 percent     . in the eplerenone postacute myocardial infarction heart failure efficacy and survival study ( ephesus ) ,\\neplerenone reduced mortality by 15% in patients following a recent mi with lvef < 40% , 90% of whom had hf symptoms     .  \\npatients were excluded who had a serum creatinine of < 2.5  mg / dl and hyperkalemia .        \\nthe v - heft i and ii are a large - scale trial that compared different vasodilators with placebo and among themselves .  \\nv - heft i showed , the mortality rate was significantly lower for the total cohort ( african americans and whites ) in isdn / hyd arm compared to patients treated with prazosin or placebo added to digitalis and diuretics ( figure 1 )     .    in v - heft ii , though isbd / hyd was statistically inferior to enalapril in effect on mortality , patients taking isbd / hyd experienced similar mortality rate in   patients taking isbd / hyd in   v - heft - ii   as those in v - heft - i taking isbd / hyd .  \\nposthoc analysis of v - heft i showed isbd / hyd significantly reduced mortality in african american patients but not in white patients .  \\nthe reanalysis of v - heft ii , demonstrated the annual mortality rate african american ( 12.9 ) patients receiving isbd / hyd was 12.9% compared with 12.8% for african americans receiving enalapril .  \\ndue to difference in outcomes in african americans in v - heft , the african american heart failure trial ( a - heft ) definitive study was designed .  \\nthe a - heft was terminated earlier than anticipated completion date due to a significant ( 43% ) reduction in mortality in patients receiving combination ( isdn / hyd ) compared to the placebo arm .    adding the combination of a fixed - dose of isdn / hyd ( 20  mg/37.5  mg ) to a standard medical regimen for hf , including acei and bbs ,\\nis recommended in order to improve outcomes for patients self - described as african americans , with nyha functional class iii or iv chf     .  \\nfurthermore , genomic evidence from the grahf ( genetic risk assessment of heart failure in african americans ) arm of the african american heart failure trial ( a - heft ) showed that blacks with the more common tt phenotype ( 61% ) of the aldosterone synthase gene ( cyp11b2 ) showed greater responsiveness to the combination of isosorbide dinitrate and hydralazine     . the vast majority of blacks will have no identified cause for their htn     .\\npast studies elucidating the pathophysiological mechanisms have shown conflicting information and further investigations exploring the complex relationships and interactions are warranted     .\\nthere are , however , several secondary forms of htn in blacks that are prominent and preventable .\\nwe will focus on the most common , preventable and treatable secondary form of hypertension ,   obstructive sleep apnea ( osa ) .\\nthe prevalence of osa in hypertensive populations is estimated to range between ( 3040% )   and in heart failure at 53% ; apnea - hypopnea index ( ahi ) 10/h )     .\\nit is an independent risk factor for htn , nondipping of blood pressure and increased bp variability   and follows a dose - dependent relationship .\\na prospective study showed that the odds of developing hypertension over 48 years was 2.89 times more likely for participants who had ahi  15/h compared to ahi  0 , independent of known confounders .  \\ncross - sectional data has shown 2.38-times increased likelihood of having heart failure in association with osa , independent of confounders ( n = 6424 ) [ 67 , 68 ] .\\nosa has been shown to act through various mechanisms , independent of blood pressure , in promoting left - ventricular ( lv ) hypertrophy , diastolic     , and systolic      dysfunction , and overt heart failure .\\nthese mechanisms include the hemodynamic consequences of repetitive increases in left - ventricular transmutable wall pressure and over time impaired vigil heart rate modulation leading to lv hypertrophy and ventricular remodeling .\\nadditionally , osa patients without overt heart failure have more impaired diastolic relaxation than those without osa .\\nemerging evidence illustrates patients with osa have more active atherosclerotic disease with a greater degree of vessel involvement and more vulnerable plaques than do patients without the disease , resulting in greater cardiovascular burden .\\nthe definite treatment for osa , long - term adherence to continuous positive airway pressure ( cpap ) therapy , has shown to suppress sympathetic activity     , lower blood pressure , reduce right ventricular volume     , and improve systolic function in patients with hf     .\\nsystematic reviews , meta - analyses , and randomized controlled trials have shown statistically significant net reduction in blood pressure with cpap , especially in patients with increased ahi events     [ 7883 ] . a recent 3-year study ( n = 340 ) by durn - cantolla et al . reported that participants assigned to cpap therapy for 3 months had mean 24-hour ambulatory blood pressure decreased by 2.1  mmhg ( 0.4 to 3.7 ) mmhg ( p = .01 ) for systolic and 1.3 ( 0.2 to 2.3 ) mm  hg ( p = .02 ) for diastolic blood pressures     .\\nsimilar evidence from randomized trials showed up to 9% increase in lvef      and increased quality of life ( qol ) and functional capacity among patients treated with 13 months of cpap therapy     .\\nfurthermore , among patients with no overt failure , cpap therapy has been shown to reverse impaired diastolic relaxation .\\nthere is a need for further randomized clinical trials with cpap therapy among high - risk ethnic minorities especially blacks to assess whether treatment of osa has similar long - term effects and to evaluate the effect on htn and hf morbidity and mortality .\\ntaking into consideration , lifestyle and pharmaceutical interventions , our changing health care community needs to emphasize the essential nature of the patient - provider relationship and establish trust and collaboration . in the past , this has been accomplished through physician , patients , family member , and other caretaker awareness , increased education of both provider and patients , and establishment of community outreach programs .\\nthese measures have contributed to an increase in compliance and a reduction in the risk of hospitalizations [ 23 , 87 ] .\\nwe recommend an additional emphasis on the implementation of specialty care in patients with heart failure in collaboration with the primary care provider .\\nthe dramatic improvement in the management of hf and hypertension over the last 50 years has allowed us to start to target specific populations and provide more evidence - based treatment that will lead to an improvement in mortality .  \\nthere are disparities in the prevalence , treatment , and control of hypertension and the incidence and morbidity and mortality of heart failure between blacks , a diverse and heterogeneous population , and whites .  \\nthe management team needs to take into consideration new evidence and develop tailored strategies for effective treatment , especially for hypertension , one of the main causes of hf and many other cardiovascular complications in african africans .\">, <tf.Tensor: shape=(), dtype=string, numpy=b' hypertension ( htn ) is the most common co - morbidity in the world , and its sequelae , heart failure ( hf ) is one of most common causes of mortality and morbidity in the world . \\n current understanding of pathophysiology and management of htn in hf is mainly based on studies , which have mainly included whites . among racial groups , \\n african - american adults have the highest rates ( 44% ) of hypertension in the world and are more resistant to treatment . \\n there is an emerging consensus on the significance of racial disparities in the pathophysiology and treatment options of hypertension and heart failure . \\n however , african americans had been underrepresented in all the trials until the initiation of the a - heft trial . since the recognition of obstructive sleep apnea ( osa ) as an important medical condition , \\n large clinical trials have shown benefits of osa treatment among patients with htn and hf . \\n this paper focuses on the pathophysiology , causes of secondary hypertension , and treatment of hypertension among african - american patients with heart failure . \\n there is increasing need for randomized clinical trials testing innovative treatment options for african - american patients . '>)\n",
            "(<tf.Tensor: shape=(), dtype=string, numpy=b\"several chemoprotective properties of lycopene on prostate cancer have been proposed , including potent antioxidant properties , decreased lipid oxidation , inhibition of cancerous cell proliferation at the g0-g1 cell cycle transition , and protection of lipoproteins and dna [ 1 , 2 ] .\\nthese mechanistic studies have stimulated the examination of lycopene and its primary source , tomato products , on risk of prostate cancer .\\nhowever , studies on lycopene and tomato intake and prostate cancer incidence have yielded mixed results .\\nthe study of this relationship has been complicated by unique and challenging epidemiologic considerations in the measurement of lycopene and on the influence of prostate - specific antigen ( psa ) screening on prostate cancer incidence and progression . as with all epidemiologic studies ,\\nthis paper briefly describes the methodology essential for conducting studies on the association between lycopene and prostate cancer incidence and provides an updated review of studies of lycopene and tomato products with prostate cancer risk .\\nlycopene is a carotenoid devoid of vitamin a activity . the major source by far , particularly in western populations , is tomato and tomato products ; a few other foods such as watermelons and pink grapefruit also contain lycopene . in epidemiologic studies ,\\napproaches to assess an individual 's lycopene intake or status include studies that estimate intake of lycopene ( based on reported intake of foods and food content of lycopene from food composition databases ) , studies that assess tomato product intake as a surrogate of lycopene intake , and studies that measure lycopene levels in the serum or plasma .\\nan issue that is not unique for lycopene , but perhaps of special importance for this carotenoid , is the variable absorption of lycopene from different food sources . in particular , cooking in an oil medium substantially enhances bioavailability of lycopene in the intestine because lycopene is highly bound to plant source matrices and is highly lipophilic .\\nthe measure of lycopene in the serum has theoretical advantages of accounting for absorption and not relying on study participants ' food recall and accuracy of food composition tables .\\non the other hand , serum studies have frequently relied on a single measure , and how well a single measurement reflects long - term intake is not entirely clear . also , since lycopene comes largely from tomato sources , circulating lycopene level may be acting as a surrogate of tomato product intake , and other components of tomatoes may account for any observed association with cancer risk .\\nfinally , a population that consumes overall low levels of lycopene or similar levels of lycopene across individuals may result in insufficient contrast between high and low consumers .\\npsa release into the serum occurs with tissue breakdown between the prostate gland lumen and capillaries .\\nthe original purpose of the psa measurement was to monitor prostate cancer progression and recurrence .\\nthe food and drug administration approved psa testing for monitoring disease status in men with prostate cancer in 1987 and expanded its use to diagnosing prostate cancer in 1992 .\\nthis approval was followed by professional society guidelines that supported the use of psa testing for prostate cancer screening .\\nconsequently , psa became widely used as a screening test in the united states and increasingly in other countries . as a screening modality ,\\nthe sensitivity and specificity of psa varies based on the cut - off . for example , a psa level of 3  ng / ml has a sensitivity of 32% for detecting any prostate cancer and 68% for high - grade prostate cancer and a specificity of 85% .\\nif this level were increased to 4  ng / ml the sensitivity would decrease to 21% for any prostate cancer and 51% for high grade prostate cancer but specificity would improve to 91% .\\nelevated serum psa may precede invasive carcinoma by a minimum of 510 years . thus , psa testing enabled earlier detection of prostate cancer .\\nthe rate of first - time psa testing was strongly correlated with prostate cancer incidence rates . with the onset of psa for screening , prostate cancer incidence increased and peaked in 1992 and declined thereafter .\\nprior to widespread psa use for screening , prostate cancer diagnosis was largely prompted by physical exam findings of an enlarged prostate or symptoms ranging from urinary incontinence to more advanced spinal cord compression and bony pain from metastasis ; therefore , prostate cancer was mostly detected in relatively advanced stages .\\ninvasive carcinoma prevalence increases with age : 2% for men in their 30  s compared with 64% for men in their 70s .\\none - third of men under age 80 will have prostate cancer detected on autopsy .\\nthe lifetime risk of prostate cancer is 16% while the risk of mortality from prostate cancer is 2.9% . thus a \\npsa screening era  beginning in 1988 , fda approved in 1992 , and peaking between 1992 and 1998 has been referred to as a period in which prostate cancers diagnosed by serum psa alone encompassed a variety of stages of prostate cancers , including clinically indolent cancers [ 4 , 7 ] .\\nin addition to diagnosing biologically indolent cancers , psa elevation occurs with benign conditions including benign prostatic hypertrophy , prostatitis , subclinical inflammation , ejaculation , digital rectal exams ( potentially performed just prior to patients having their psa lab drawn ) , perineal trauma , prostatic infarction , urinary retention , biopsy , and transurethral resection of the prostate .\\nthe influence of psa on prostate cancer mortality has been controversial , with randomized trials not yielding a clear answer .\\nhowever , undoubtedly psa screening has caused an increase in the number of indolent cancers being treated aggressively and ultimately led to increased morbidity from side effects of treatment .\\nthe majority of newly diagnosed prostate cancers were clinically localized and unlikely clinically significant to involve aggressive medical and surgical therapy such as radical prostatectomy with radiation ablation intended to cure early - stage cancers . for these reasons , in 2011 the united states preventive services task force recommended against psa screening for prostate cancer regardless of age , race / ethnicity , and family history . beyond the clinical consequences , psa screening has altered the landscape of prostate cancer epidemiology .\\nmany more cancers are diagnosed , including a substantial proportion of relatively indolent cancers , and the cancers are diagnosed earlier in their natural history , often before evidence of aggressive behavior is manifested .\\nthus , depending on at what stage and on what subtype of prostate cancer a risk factor may be acting , the relationship between this risk factor and prostate cancer risk may differ in populations exposed or not exposed to widespread psa screening . by increasing the heterogeneity in prostate cancers being diagnosed , psa screening has added complexity to the epidemiologic study of prostate cancer .\\na number of randomized clinical trials have examined lycopene and prostate cancer progression and mortality in men diagnosed with prostate cancer .\\nthe randomized studies have been small and inconclusive . in a double - blind randomized placebo - controlled trial ,\\n105 african american male veterans recommended for biopsy to detect prostate cancer were administered tomato sauce containing 30  mg / day of lycopene or placebo over 21 days .\\npsa and lycopene levels were measured , and the group randomized to lycopene had an increase in serum lycopene and decrease in psa while the placebo group had the reverse , with a decrease in serum lycopene and increase in psa .\\nthis study did not report a significant decrease in prostate cancer risk for individuals administered lycopene , but the study duration of 21 days was likely inadequate to significantly influence prostate cancer risk .\\none study reported a decline in psa in the lycopene as well as placebo group after 1 month of intervention but return to baseline psa levels for both groups after 4 months of followup .\\nin general , the clinical trials have been considerably limited by size , length of study duration , and other methodological issues and do not provide strong support or refutation of an association between lycopene and prostate cancer risk .\\nprospective and nested case control studies have been published previously in qualitative [ 13 , 14 ] and quantitative reviews . in a meta - analysis of prospective studies up to 2003\\n, high intake of raw but not cooked tomatoes was associated with a decreased risk of prostate cancer ( relative risk ( rr ) 0.71 , 95% confidence interval ( ci ) : 0.570.87 ) .\\nsubsequent cohort studies on dietary lycopene intake [ 16 , 17 ] have not reported significant inverse associations with prostate cancer risk .\\nhowever , these studies were conducted in the post - psa era that likely encompassed a heterogeneous group of prostate cancers that included latent and incident cancers . among prospective dietary studies ,\\nfour [ 1821 ] of six cohorts report an inverse relationship between lycopene or tomato consumption and prostate cancer incidence .\\nthe largest and only study with multiple assessments of diet was conducted in the health professionals follow - up study ( hpfs ) [ 18 , 19 ] .\\nthe hpfs first reported an inverse association between lycopene intake in 1986 with prostate cancer diagnosed between 1986 and 1992 : rr for high versus low quintile of intake = 0.79 ( 95% ci : 0.640.99 , ptrend = 0.04 ) .\\nhigh intake of tomato - based products was associated with a 35% decreased risk of total prostate cancer ( rr 0.65 , 95% ci : 0.440.95 ) and 53% decreased risk of advanced stage prostate cancer ( rr 0.47 , 95% ci : 0.221.00 ; ptrend = 0.03 ) .\\nthe hpfs analysis was updated for prostate cancer cases between 1992 and 1998 using cumulative average updated intakes ( i.e. , averaging intake from all the dietary questionnaires up to the time period of risk ) of lycopene from 1986 to 1998 with a similar inverse association detected : rr = 0.83 ( 95% ci : 0.700.98 , ptrend = 0.02 ) .\\nthe hpfs assessed dietary intake every four years , and the timing of intake in relation to period of risk for prostate cancer was assessed . when baseline lycopene intake in 1986 was evaluated for prostate cancer cases during the entire follow - up period ,\\nhowever , statistically significant inverse associations were found when using the questionnaire closest in time to the time period of risk ( rr for high versus low lycopene intake = 0.84 , 95% ci : 0.740.96 , ptrend = 0.02 ) and cumulative average updated lycopene intake ( rr for high versus low lycopene intake = 0.84 , 95% ci : 0.730.96 , ptrend = 0.003 ) .\\nalternatively , a single measurement of dietary intake at baseline may not be the best measurement to reflect the potential impact of lycopene in altering prostate carcinogenesis , compared with multiple updated dietary measurements .\\nindividual tomato products were examined in relation to prostate cancer risk , and the strength of the association corresponded to association of the food item with serum lycopene levels , which were concurrently available in the hfps . for example , tomato sauce , the most bioavailable form of lycopene , was most strongly related to decreased prostate cancer risk ( rr for 2 servings / week versus < 1 serving / month = 0.77 , 95% ci : 0.660.90 ) , followed by tomato and pizza but not tomato juice .\\nthere was an even stronger association for advanced prostate cancer : rr for 2 servings / week versus < 1 serving / month of tomato sauce = 0.65 ( 95% ci : 0.420.99 , ptrend = 0.02 ) .\\na similar magnitude decrease in prostate cancer was reported in the california seventh day adventist cohort between 1974 and 1982 for men with high tomato consumption .\\nhigh intake of tomatoes was associated with a statistically significant 40% decreased risk of prostate cancer ( rr 0.60 , 95% ci : 0.370.97 ) . in another study , a 50% lower risk of prostate cancer was reported for high compared with low tomato consumption in us men between 1987 and 1990 : rr 0.50 ( 95% ci : 0.300.90 , ptrend = 0.03 ) , but few details were provided . dietary cohort studies that did\\nnot report associations with prostate cancer incidence frequently had lower lycopene and tomato intake compared with studies that report an association . a dietary cohort study based in the netherlands between 1986 to 1992\\ndid not report an association between tomato intake and prostate cancer incidence . while this cohort took place between the same time period as the initial hpfs analysis , tomato consumption was low compared with the hpfs .\\nin addition , consumption of tomato - based products , which contain more bioavailable lycopene , was not specifically addressed .\\na diet - based cohort study of individuals in the prostate , lung , colorectal , and ovarian screening trial   examined intakes of lycopene and top food sources of lycopene but did not find inverse associations for lycopene , raw tomatoes , canned tomatoes , or other processed tomato products ( ketchup , tomato sauce , pizza , lasagna , tomato and vegetable juice , chili ) with total or nonadvanced prostate cases . predominately white men ( 90.7% ) enrolled in this study between 1993 and 2001 received baseline psa screening or digital rectal examination and completed annual questionnaires .\\nmen with a psa level > 4  ng / ml or digital rectal examination concerning for prostate cancer were referred to their medical provider for further diagnostic evaluation and staging of prostate cancer . the majority ( 92% ) of prostate cancers\\nnonadvanced disease ( gleason score < 7 or stage i or ii ) comprised 61% of total prostate cancer cases and was not associated with total lycopene intake or lycopene from processed foods .\\ngreater consumption of spaghetti / tomato sauce and pizza was associated with decreased incidence of advanced disease but did not reach statistical significance ( rr 0.81 , 95% ci : 0.571.16 and rr 0.79 , 95% ci : 0.561.10 , respectively ) .\\nthe association of tomato products with advanced but not nonadvanced prostate cancer suggests a possible stronger role for lycopene in advanced disease\\n. limitations of this study include the assessment of lycopene intake from a single baseline measurement .\\nin addition , intake for all but raw tomatoes was low in this population , with no more than two servings per week ( mean total lycopene intake 11,511 and standard deviation 8,498  g / d ) .\\nfurther , a large portion of prostate cancer cases were diagnosed by initial psa screening , and total prostate cancers reflected a heterogeneous mix of mostly nonadvanced prostate cancer cases .\\ndietary lycopene was not reported to have an association with prostate cancer risk in a prospective study from the prostate cancer prevention trial .\\nthe pcpt originated as a randomized trial of finasteride but was converted to a prospective observational study .\\nmen with an abnormal digital rectal examination or psa level 4  ng / ml or greater were encouraged to receive a prostate biopsy . at the final study year\\nthis resulted in the inclusion of incidental cases of prostate cancer that contributed to the substantial 24.8% of prostate cancer cases diagnosed in men originally randomized to the control group .\\nthe majority of cancers were localized and detected by screening or incidentally discovered , and it is possible that low - grade cancers have different characteristics from high - grade cancers .\\nin addition , it may be necessary to assess lycopene through simple updated or cumulative average updated intakes rather than a single baseline measurement .  \\na number of studies have examined serum or plasma lycopene from biobanks in relation to subsequent prostate cancer risk .\\nthe studies were typically nested case control in design ; incident cases and matched cancer - free controls over the follow - up period were identified , and serum or plasma lycopene was measured in the banked biospecimens . in a meta - analysis of prospective studies up to 2003 , high serum lycopene levels were associated with significant decreased risk of prostate cancer : rr = 0.78 ( 95% ci : 0.611.00 ) .\\nsubsequent studies on serum lycopene levels conducted in the post - psa era [ 2328 ] have not reported significant inverse associations with total prostate cancer risk .\\none of the earliest studies to report an inverse association between serum lycopene and prostate cancer risk was a nested case control study of 103 prostate cancer cases matched with 103 controls among 25,802 male residents of washington county , md who donated blood in 1974 .\\na nonsignificant 50% reduction in prostate cancer risk was reported ( or 0.50 ; 95% ci : 0.201.29 ) .\\ntwo of the largest nested case control studies reported inverse associations between plasma lycopene and prostate cancer risk [ 30 , 31 ] .\\nplasma lycopene levels were higher in these multicentered us cohorts compared with other studies , which may reflect the higher education level in these populations . a nested case control study within the physicians ' health study , a randomized , placebo - controlled trial of aspirin and -carotene , assessed incident prostate cancer cases in 578 men compared with 1294 age- and smoking - status - matched controls .\\nmen with higher plasma lycopene had a borderline significant decreased risk of prostate cancer ( highest quintile rr = 0.75 ; 95% ci : 0.541.06 ; ptrend = 0.05 ) .\\nthere was a significantly greater decreased risk for aggressive ( high stage or high grade ) prostate cancer : highest quintile plasma lycopene , rr = 0.56 ( 95% ci : 0.340.91 ; ptrend = 0.05 ) .\\nthese associations were not confounded by covariates including age , smoking status , body mass index , physical activity , alcohol intake , multivitamin use , or plasma total cholesterol level . in a nested case control study within the prospective hpfs cohort ,\\n450 incident cases of prostate cancer diagnosed between 1993 and 1998 were matched with 450 controls by age , time , month , season , and year of blood donation .\\na nonsignificant inverse association was reported for plasma lycopene and risk of prostate cancer : rr for highest versus lowest quintile , 0.66 ( 95% ci : 0.381.13 ) .\\nthis association was statistically significant for men older than 65 years at time of plasma donation : rr for highest versus lowest quintile , 0.47 ( 95% ci : 0.230.98 ) , but was not observed for younger men .\\nserum lycopene was recently assessed in a nested case control study within the prostate cancer prevention trial ( pcpt ) .\\nthere was no association between serum lycopene and prostate cancer incidence , but incidentally diagnosed prostate cancer cases by end - of - study biopsies were analyzed alongside prostate cases diagnosed by screening . in a reanalysis that included only cancers diagnosed from abnormal screening\\nthe cancers assessed by end - of - study biopsy were relatively static ( e.g. , no psa elevation or sign of clinical progression ) during the study period , so may not be appropriately considered as \\nseveral other serum lycopene studies reported nonsignificant inverse associations [ 2325 , 27 ] or no association [ 26 , 32 ] with prostate cancer risk . however , these studies were conducted in the post - psa era that likely encompassed a heterogeneous group of prostate cancers that included latent and incident cancers . as with the pcpt , an association with lycopene could be missed . in the large european study ( epic ) by key et al . , a statistically significant inverse association was observed for cases diagnosed at an advanced stage . in this study , men in the highest versus lowest quintile of lycopene level had a rr of 0.40 ( 95% ci : 0.190.88 ) .\\nseveral studies retrospectively examined the association between tomatoes , tomato - based products or lycopene , and prostate cancer risk , with mixed results .\\nin a meta - analysis of case control studies through 2003 , high intakes of raw tomatoes , cooked tomatoes , and lycopene were not associated with decreased prostate cancer risk . a strong inverse dose - response relationship between lycopene intake and histopathologically confirmed\\nlycopene intake was assessed using a reproducible and validated 130-item food frequency questionnaire for elderly men in china .\\nfor lycopene intakes of 16093081 , 30814917 , and > 4917  g / d , the rrs of prostate cancer compared with lycopene intake <\\n1609  g / d were 0.47 ( 95% ci : 0.250.86 ) , 0.40 ( 95% ci : 0.210.77 ) , and 0.17 ( 95% ci : 0.080.39 ) , respectively .\\nthe rrs reported for lycopene and prostate cancer in this study were stronger than some prior studies .\\nthis study also examined green tea and vegetable and fruit intake and reported strong , significant inverse associations for all these associations .\\nthe incidence of prostate cancer is lower in developing countries such as china , compared with western countries . in china psa screening\\nwhile further information and stratification based on prostate cancer grade and staging were not provided in this study , the lower prevalence of psa screening practices in china compared with the usa suggests prostate cancer cases in this cohort were more likely to be at advanced stages .\\nthe strong association between lycopene and probable advanced prostate cancer suggests a role for lycopene in influencing risk of aggressive cancer .\\na significant inverse association between tomato intake and prostate cancer was similarly reported in a case control study of 617 canadian men with prostate cancer and 636 age - matched controls conducted between 1989 and 1993 .\\nthe rr of prostate cancer was 0.64 ( 95% ci : 0.450.91 ) for tomato intake > 73  g / day compared with < 24  g / day .\\nthere was no significant association reported for lycopene intake and prostate cancer . in a case control study of 130 prostate cancer cases in iranian men ,\\ntomato consumption of greater than 100  g / week was nonsignificantly inversely associated with decreased prostate cancer risk ( rr 0.45 ; 95% ci : 0.092.12 ) .\\nfood intake was assessed based on the past two months of intake , and tomato intake questions included tomato extract and dressing . however , it is unclear whether this tomato group included both raw and processed tomatoes .\\nan additional study reported a nonsignificant inverse association between dietary lycopene and prostate cancer risk   while several reported no association [ 3840 ] .  \\nthree case control studies of plasma lycopene reported strong inverse associations with histopathologically confirmed prostate cancer [ 4143 ] .\\none study of non - hispanic caucasian men used high - pressure liquid chromatography ( hplc ) to examine plasma lycopene isoforms .\\ncis - lycopenes 2 through 5 individually and in sum as total cis - lycopene and trans - lycopene were not associated with prostate cancer risk .\\nthis study suggests the structural type of lycopene measured may influence the ability to detect an association , as one cis isomer but not total cis- or trans - lycopene was associated with decreased prostate cancer risk .\\nhowever , a study in the hpfs found that the isomers were highly correlated with each other , making any specific effects difficult to distinguish .\\nthe multicentered case control third national health and nutrition examination survey ( nhanes iii ) of u.s .\\ncaucasian and african american men aged 4079 years reported a significant inverse association between serum lycopene and aggressive prostate cancer ( highest compared with lowest quartile rr = 0.37 ; 95% ci : 0.150.94 ; ptrend = 0.04 ) and nonsignificant association between serum lycopene and prostate cancer ( highest compared with lowest quartile rr = 0.65 ; 95% ci : 0.361.15 ; ptrend = 0.09 ) .\\ncaution should be used in interpreting results from case control plasma or serum studies because the cancers could possibly be influencing lycopene level , resulting in reverse causation .\\nthis paper focused on prostate cancer incidence that may or may not have been detected by initial psa screening and highlights differences in the association with lycopene based on prostate cancers initially screened with psa testing compared with cancers diagnosed in more advanced stages . elevated psa may be attributed to a number of benign factors , including the highly prevalent benign prostatic hypertrophy in older men , and should not be used in isolation along with single serum measurements for the diagnosis of prostate cancer .\\nrandomized interventions of lycopene and prostate cancer risk have been limited in scope , and some used psa as an endpoint [ 10 , 11 ] .\\nthus , trials do not provide strong support either for or against a causal association . the epidemiologic literature on lycopene intake or level and prostate cancer based on observational studies has been inconsistent overall .\\none potential explanation is that there was a relative over - reporting and publishing of positive studies in the earlier years , followed by a correction of this publication bias as the hypothesis grew in interest and null studies were published .\\nif so , then it may be concluded that there is unlikely to be a causal connection between lycopene intake and risk of prostate cancer .\\nan alternative possibility is that the earlier studies were conducted largely before the onset of psa screening , where diagnosis of prostate cancer usually implied a period of increasing aggressive behavior leading to the diagnosis .\\nthus , the exposure was linked to the development of aggressive behavior in cancers with biologic potential to progress . in the psa era , 19921998 with peak in 1992 following fda approval as a screening test for prostate cancer , the diagnosis of prostate cancer is not typically linked to aggressive behavior [ 4 , 7 ] .\\nan example of this phenomenon may be the subgroup of cancers in the pcpt that were diagnosed at end of study biopsy .\\nthere was a high prevalence of undiagnosed prostate cancer , even among the youngest group of men in the study ( 5559 years ) , which suggests that most of the cancers eventually diagnosed during the study period were present at baseline . throughout the 7-year followup\\n, the cancers diagnosed at end - of - study biopsy showed no evidence of clinical or biochemical progression .\\nprior studies have shown that most cancers , even many with high - grade gleason scores , do not progress over prolonged time , and it is well established that only a fraction of prostate cancers result in the most advanced and clinically significant stage and mortality .\\nthus , the majority of these cancers was likely present at the onset of the study and may be considered static cancers .\\nin fact , when reanalyzed as a case - only study , higher serum lycopene levels in the pcpt appeared to be inversely associated preferentially with cancers that showed evidence of progression relative to cancers that showed no indication of progression . in modeling two patterns of prostate cancer progression ,\\none with low lycopene exposure and rapid tumor growth that reaches a threshold psa level for clinical diagnosis and the second with high lycopene exposure and slow progression , the latter may be diagnosed at a much later time through an incidental random biopsy rather than psa .\\nthus , asymptomatic cancers diagnosed at the end - of - study by biopsy may signify cancers that were inhibited rather than incident cancer .\\nthus , a possible interpretation is that high levels of lycopene may have inhibited some existing cancers to undergo progression .\\nsome evidence supports the premise that psa screening and type of tumor endpoint are critical . for example , the hpfs was analyzed before and after peak psa testing in the early 1990s . before psa testing ( 19861992 )\\ntomato sauce intake was inversely associated with prostate cancer incidence and stronger for advanced stage cancers . while the association for total prostate cancer incidence was attenuated during the psa era ( 19921998 ) , the association with metastatic prostate cancer persisted .\\nin addition , in the large epic study   serum lycopene level was inversely associated with risk of advanced stage prostate cancer but not nonadvanced prostate cancer .\\nas discussed above , studies based on intake are limited by the assessment of intake , food composition databases , and differences in bioavailability .\\nfuture studies may be improved by better taking into account bioavailability differences among diverse foods .\\nprospective studies are preferable to avoid various biases , such as recall bias , or reverse causation in studies of circulating lycopene . with increasing use of psa\\n, it is becoming increasingly difficult to examine advanced stage prostate cancer , at least in some populations . examining potential mediators or markers of aggressive behavior in tumor tissue may be another useful approach in the further study of lycopene and prostate cancer risk .\">, <tf.Tensor: shape=(), dtype=string, numpy=b' lycopene has been proposed to protect against prostate cancer through various properties including decreased lipid oxidation , inhibition of cancer cell proliferation , and most notably potent antioxidant properties . \\n epidemiologic studies on the association between lycopene and prostate cancer incidence have yielded mixed results . \\n detection of an association has been complicated by unique epidemiologic considerations including the measurement of lycopene and its major source in the diet , tomato products , and assessment of prostate cancer incidence and progression . understanding this association has been further challenging in the prostate - specific antigen ( psa ) screening era . \\n psa screening has increased the detection of prostate cancer , including a variety of relatively indolent cancers . \\n this paper examines the lycopene and prostate cancer association in light of epidemiologic methodologic issues with particular emphasis on the effect of psa screening on this association . '>)\n",
            "(<tf.Tensor: shape=(), dtype=string, numpy=b'\\n hepatitis c virus ( hcv ) infection is reported to have a prevalence of approximately 3% worldwide .\\nmajority of patients with chronic hcv have a mild , asymptomatic elevation in serum transaminase levels with no significant clinical symptoms . around 25% of patients with chronic hcv have persistently normal alanine aminotransferase ( pnalt ) .\\ndefinition of normal alanine aminotransferase ( alt ) has changed over time and reference range for normal alt differs based on different laboratory cutoffs .\\nprati et al .   in 2002 suggested new cutoffs with 30  u / l ( international unit ) for men and 19  u / l for women compared to 40 \\nu / l and 30  u / l for men and women , respectively .\\na 2009 american association for the study of liver disease ( aasld ) practice guideline suggested an alt value of 40  u / l on 2 - 3 different occasions separated by at least a month over a period of 6 months .\\nothers have used 3 different alt levels equal to or below upper limit of normal ( uln ) separated by at least 1 month and sometimes over a period of 18 months .\\nit was generally thought that people with pnalt have a mild liver disease and the degree of liver fibrosis is minimal [ 614 ] . based on this ,\\nlater on , it was realized that a considerable number of such patients developed significant inflammation and fibrosis over time .\\nmore recently , treatment has been recommended along the same lines for patients with pnalt as patients with elevated alt .\\nalthough more data is becoming available about the relationship of liver enzymes and course of chronic hcv infection , data regarding hcv infection and pnalt is relatively scarce . because of variation in the definition of pnalt\\n, fewer studies have looked at the relationship of pnalt with chronic hcv infection using updated normal alt definitions .\\ndepartment of hepatology at the university of illinois ( u of i ) medical center , chicago , had a database of over 1200 patients with chronic hcv infection .\\nmedical records of these patients were reviewed in an effort to characterize patients with chronic hcv infection and pnalt .\\nhistological and clinical parameters for patients with pnalt as well as elevated alt were analyzed .\\ndatabase of patients with hcv infection presenting to u of i medical center , chicago , was reviewed .\\npatients with biopsy proven hcv infection and a detectable hcv ribonucleic acid ( rna ) in blood were chosen .\\nof these , patients with an alt at liver biopsy , at least one additional over the next 12 months , and liver biopsy slides available for review were identified .\\nmost of the liver biopsy procedures were done at u of i medical center and in cases where biopsies were done at outside facility they were read again at u of i medical center .\\ntwo expert hepatologists , who were masked to clinical data , assigned knodell et al .  \\nintervals for alt measurement were chosen around the time of liver biopsy as well as 3 , 6 , and 12 months after biopsy .\\npatients with end - stage renal disease like those on dialysis and stage iv chronic kidney disease with creatinine clearance of 1529 , those who received organ transplant , those with co - infection with hiv , those who were positive for hepatitis b surface antigen ( hbsag ) , and those receiving antiviral therapy for chronic hcv were excluded .\\npnalt was defined as alt  30  u / l on at least 2 different occasions over 12 months .\\nstrict pnalt was defined as alt  30  u / l for males and 19 \\nu / l for females . demographic data including age at biopsy , gender , and race were recorded .\\nclinical data included body mass index ( bmi ) , alcohol use , tobacco use , and presence of diabetes mellitus ( dm ) .\\nhcv virus was further characterized by recording hcv rna levels , genotype , and duration of infection .\\nhistological data included individual markers of inflammation like portal tract inflammation , piece meal necrosis , and lobular inflammation as well as fibrosis according to knodell et al . scoring system .\\ninflammatory score ( sum of portal tract inflammation , piece meal necrosis , and lobular inflammation ) and histologic activity index ( hai ) score ( sum of inflammatory score and fibrosis ) were calculated .\\nhistologic data from pnalt was then compared with patients from elevated alt group . finally , clinical characteristics of pnalt with advanced fibrosis were compared with pnalt but with no advanced fibrosis .\\nindependent sample t - test and chi - squared test were used to calculate p values where appropriate .\\na total of 243 patients out of a database of 1200 patients with hcv satisfied the study criteria .\\nmain reasons to exclude a large number of patients were a lack of detectable rna despite biopsy report , outside biopsy report but slides not available for review , single or no alt value , and patients undergoing treatments .\\nthose analyzed were further divided into pnalt , strict pnalt , and elevated alt group .\\n32 ( 13% ) of these patients were identified as pnalt group and 211 ( 87% ) were identified as elevated alt group . only 13 ( 5% ) patients satisfied criterion for strict pnalt and this group was not analyzed further .\\nthe range of alt values at different time intervals was specified ( table 1 ) .\\n24 ( 75% ) of pnalt patients were females while 85 ( 40% ) with elevated alt were females .\\n13 ( 41% ) with pnalt were african american ( aa ) compared to 87 ( 41% ) with elevated alt , 14 ( 44% ) were caucasian ( w ) compared to 79 ( 38% ) with elevated alt , and 5 ( 15% ) were hispanic ( h ) compared to 44 ( 21% ) with elevated alt .\\nthere was no statistically significant difference in the racial distribution between pnalt and elevated alt group .\\nthere was a higher frequency of women in the pnalt group compared to the elevated alt group ( p = 0.001 ) .\\ndiabetes and alcohol use were more common among patients with elevated alt compared to pnalt ( p = 0.04 and 0.049 , resp . ) .\\nmost notably , patients with pnalt had a higher rate of cirrhosis ( p = 0.007 ) .\\nthere were no differences in age at biopsy , tobacco use , bmi , rna level , and duration of infection between pnalt and elevated alt groups ( table 2 ) .\\nfurther evaluation of liver histology showed no statistically significant difference in mean fibrosis score , mean portal tract inflammation score , mean piecemeal necrosis score ( pmn ) , mean lobular inflammation score , mean histologic activity index ( hai ) score , and mean inflammatory score between pnalt group and elevated alt group ( table 3 ) .\\ncomparison of clinical characteristics of pnalt group with advanced fibrosis with pnalt group without advanced fibrosis showed that only platelet count was significantly different between the two groups ( table 4 ) .\\ntables 5 and 6 characterize the distribution of hcv genotypes based on pnalt and hai score , respectively .\\nthe natural history of chronic hcv infection with pnalt is poorly understood [ 1820 ] .\\nwe attempt to describe the characteristics of patients with pnalt , which constitutes almost 2530% of patients with chronic hcv infection .\\nfirstly , a high proportion of patients with pnalt had advanced fibrosis , and degree of inflammation was not significantly different than chronic hcv infection with abnormal alt .\\nsecondly , it was difficult to identify a substantially large set of patients with hcv infection and pnalt given that there is a significant fluctuation in the alt level over time [ 9 , 15 ] .\\nwe chose duration of 12 months to observe the levels of alt instead of 6 months period .\\nit is becoming clear that 6 months is probably too short given that in some cases alt level may fluctuate after initial period of stability [ 7 , 2124 ] .\\nmost patients with pnalt were females , which is consistent with earlier findings [ 79 ] .\\nsimilarly , age at biopsy , bmi , rna level , and duration of infection were not significantly different between the two groups .\\nhcv genotype distribution showed that a majority ( 81% ) of patients belonged to genotype 1 and it is a well - characterized fact .\\nthere was no significant difference in terms of distribution of genotypes between the 2 groups ( table 5 ) .\\nalso there was no significant difference in hai according to genotype distribution ( table 6 ) .\\nhcv genotyping was performed in 181/243 ( 75% ) patients and was missing in 62 ( 25% ) patients .\\nthe likely reason was transition from paper to electronic records in 1990s and loss of some data .\\nwithin pnalt , those with advanced fibrosis differed from those without advanced fibrosis by platelet count only .\\nsimilarly , pnalt patients were divided based on low - normal alt ( < 19 ) and high - normal alt ( 2030 ) for comparing hai scores among them but no significance was seen ( table 7 ) .\\nstudies to date have been mentioning a milder disease for pnalt in terms of fibrosis and necroinflammation [ 79 , 2628 ] .\\nsome studies have pointed to this fact as well [ 14 , 29 , 30 ] .\\nthis is an interesting finding given that despite significant inflammation ( comparable to abnormal alt ) the alt levels in some of these patients have been consistently low .\\nsimilarly , advanced fibrosis was more common in pnalt group as compared to the elevated alt group ( p = 0.007 ) .\\nit is thought that alt levels normalize in patients with advanced fibrosis   and that is why some authors will advocate doing liver biopsy in patients with hcv infection and normal alt levels .\\nit is interesting to note that the 6 patients with pnalt who had cirrhosis also had evidence of thrombocytopenia .\\nour results indicate that platelet count can be used as a marker to predict fibrosis in patients with pnalt .\\nfor instance , almost all patients in the study group had an alt measured around biopsy but only slightly more than half had alt measured around 12 months .\\nsecond , sample size was relatively small and might not be a true representative of patients with pnalt .\\nthis might in particular be valid for pnalt with advanced fibrosis as 8 ( 25% ) out of 32 patients with pnalt had f3-f4 while only 19 ( 9% ) out of 211 patients with elevated alt had f3-f4 ( p = 0.007 ) .\\nit is not clear if the outcome would have been the same if denominator for pnalt was high .\\nsmall sample size was caused mainly as described before as well as comorbid conditions like advanced kidney disease , hiv , hbsag positive , and being on antiviral treatment .\\nfor example , 11 patients with pnalt were excluded as they had esrd ; alt levels are known to be lower in esrd [ 34 , 35 ] secondary to an impaired immune response in patients with esrd .\\nthis raises concern that those with pnalt and severe liver fibrosis may have been in biochemical remission .\\nfor example , of the 8 patients with severe liver fibrosis ( stages 3 and 4 ) and pnalt , only 2 patients had 4 alt measurements over 12 months ( over the period of 0 , 3 , 6 , and 12 months ) , while 3 patients had 3 alt measurements over 12 months , and the remaining 3 patients had only 2 alt measurements over the 12 months period .\\nthus , it is not possible to say with certainty that all patients with pnalt and severe liver damage had uniformly low alt all along .\\nin conclusion , histological changes observed in hcv patients with pnalt will argue that alt is not a reliable indicator of hepatic inflammation or fibrosis .\\nfemale gender , absence of dm , and abstinence from alcohol were associated with pnalt .\\nthese findings indicate the need for more studies with higher number of pnalt patients to look at the relationship of pnalt with changes occurring at histological and molecular levels .'>, <tf.Tensor: shape=(), dtype=string, numpy=b' patients with chronic hepatitis c virus ( hcv ) infection and persistently normal alanine aminotransferase ( pnalt ) are generally described to have mild liver disease . \\n the aim of this study was to compare clinical and histological features in hcv - infected patients with pnalt and elevated alt . \\n patients presenting to the university of illinois medical center , chicago , who had biopsy proven hcv , an alt measurement at the time of liver biopsy , at least one additional alt measurement over the next 12 months , and liver biopsy slides available for review were identified . \\n pnalt was defined as alt  30 on at least 2 different occasions over 12 months . \\n of 1200 patients with hcv , 243 met the study criteria . \\n 13% ( 32/243 ) of patients had pnalt while 87% ( 211/243 ) had elevated alt . \\n significantly more patients with pnalt had advanced fibrosis ( f3 and f4 ) compared to those with elevated alt ( p = 0.007 ) . \\n there was no significant difference in the histology activity index score as well as mean inflammatory score between the two groups . in conclusion , in a well - characterized cohort of patients at a tertiary medical center , pnalt did not distinguish patients with mild liver disease . '>)\n"
          ],
          "name": "stdout"
        }
      ]
    },
    {
      "cell_type": "code",
      "metadata": {
        "colab": {
          "base_uri": "https://localhost:8080/"
        },
        "id": "AGGSYK1RRTtR",
        "outputId": "d29c5422-67af-49a2-8b6f-c5c33128fe08"
      },
      "source": [
        "dataset"
      ],
      "execution_count": 12,
      "outputs": [
        {
          "output_type": "execute_result",
          "data": {
            "text/plain": [
              "<PrefetchDataset shapes: ((), ()), types: (tf.string, tf.string)>"
            ]
          },
          "metadata": {
            "tags": []
          },
          "execution_count": 12
        }
      ]
    },
    {
      "cell_type": "code",
      "metadata": {
        "colab": {
          "base_uri": "https://localhost:8080/"
        },
        "id": "yhz4YRiH3auB",
        "outputId": "a9c12f67-966d-4280-9024-bdf7374fe7a3"
      },
      "source": [
        "type(dataset)"
      ],
      "execution_count": 6,
      "outputs": [
        {
          "output_type": "execute_result",
          "data": {
            "text/plain": [
              "tensorflow.python.data.ops.dataset_ops.PrefetchDataset"
            ]
          },
          "metadata": {
            "tags": []
          },
          "execution_count": 6
        }
      ]
    },
    {
      "cell_type": "markdown",
      "metadata": {
        "id": "A_fBEcJIHO0g"
      },
      "source": [
        "## Print predictions"
      ]
    },
    {
      "cell_type": "code",
      "metadata": {
        "id": "W51RZ6ylHbE0"
      },
      "source": [
        "predicted_summary = summerize(ex[0])['pred_sent'][0]"
      ],
      "execution_count": 7,
      "outputs": []
    },
    {
      "cell_type": "code",
      "metadata": {
        "colab": {
          "base_uri": "https://localhost:8080/"
        },
        "id": "0ubEWsDqGFUq",
        "outputId": "cc7fa0b9-428f-4740-b4ab-09bca0e5e545"
      },
      "source": [
        "predicted_summary = summerize(ex[0])['pred_sent'][0]\n",
        "print('Article:\\n {}\\n\\n Predicted summary:\\n {}\\n\\n Ground truth summary:\\n {}\\n\\n'.format(\n",
        "    ex[0].numpy(),\n",
        "    predicted_summary.numpy(),\n",
        "    ex[1].numpy()))"
      ],
      "execution_count": 15,
      "outputs": [
        {
          "output_type": "stream",
          "text": [
            "Article:\n",
            " b'\\n hepatitis c virus ( hcv ) infection is reported to have a prevalence of approximately 3% worldwide .\\nmajority of patients with chronic hcv have a mild , asymptomatic elevation in serum transaminase levels with no significant clinical symptoms . around 25% of patients with chronic hcv have persistently normal alanine aminotransferase ( pnalt ) .\\ndefinition of normal alanine aminotransferase ( alt ) has changed over time and reference range for normal alt differs based on different laboratory cutoffs .\\nprati et al .   in 2002 suggested new cutoffs with 30  u / l ( international unit ) for men and 19  u / l for women compared to 40 \\nu / l and 30  u / l for men and women , respectively .\\na 2009 american association for the study of liver disease ( aasld ) practice guideline suggested an alt value of 40  u / l on 2 - 3 different occasions separated by at least a month over a period of 6 months .\\nothers have used 3 different alt levels equal to or below upper limit of normal ( uln ) separated by at least 1 month and sometimes over a period of 18 months .\\nit was generally thought that people with pnalt have a mild liver disease and the degree of liver fibrosis is minimal [ 614 ] . based on this ,\\nlater on , it was realized that a considerable number of such patients developed significant inflammation and fibrosis over time .\\nmore recently , treatment has been recommended along the same lines for patients with pnalt as patients with elevated alt .\\nalthough more data is becoming available about the relationship of liver enzymes and course of chronic hcv infection , data regarding hcv infection and pnalt is relatively scarce . because of variation in the definition of pnalt\\n, fewer studies have looked at the relationship of pnalt with chronic hcv infection using updated normal alt definitions .\\ndepartment of hepatology at the university of illinois ( u of i ) medical center , chicago , had a database of over 1200 patients with chronic hcv infection .\\nmedical records of these patients were reviewed in an effort to characterize patients with chronic hcv infection and pnalt .\\nhistological and clinical parameters for patients with pnalt as well as elevated alt were analyzed .\\ndatabase of patients with hcv infection presenting to u of i medical center , chicago , was reviewed .\\npatients with biopsy proven hcv infection and a detectable hcv ribonucleic acid ( rna ) in blood were chosen .\\nof these , patients with an alt at liver biopsy , at least one additional over the next 12 months , and liver biopsy slides available for review were identified .\\nmost of the liver biopsy procedures were done at u of i medical center and in cases where biopsies were done at outside facility they were read again at u of i medical center .\\ntwo expert hepatologists , who were masked to clinical data , assigned knodell et al .  \\nintervals for alt measurement were chosen around the time of liver biopsy as well as 3 , 6 , and 12 months after biopsy .\\npatients with end - stage renal disease like those on dialysis and stage iv chronic kidney disease with creatinine clearance of 1529 , those who received organ transplant , those with co - infection with hiv , those who were positive for hepatitis b surface antigen ( hbsag ) , and those receiving antiviral therapy for chronic hcv were excluded .\\npnalt was defined as alt  30  u / l on at least 2 different occasions over 12 months .\\nstrict pnalt was defined as alt  30  u / l for males and 19 \\nu / l for females . demographic data including age at biopsy , gender , and race were recorded .\\nclinical data included body mass index ( bmi ) , alcohol use , tobacco use , and presence of diabetes mellitus ( dm ) .\\nhcv virus was further characterized by recording hcv rna levels , genotype , and duration of infection .\\nhistological data included individual markers of inflammation like portal tract inflammation , piece meal necrosis , and lobular inflammation as well as fibrosis according to knodell et al . scoring system .\\ninflammatory score ( sum of portal tract inflammation , piece meal necrosis , and lobular inflammation ) and histologic activity index ( hai ) score ( sum of inflammatory score and fibrosis ) were calculated .\\nhistologic data from pnalt was then compared with patients from elevated alt group . finally , clinical characteristics of pnalt with advanced fibrosis were compared with pnalt but with no advanced fibrosis .\\nindependent sample t - test and chi - squared test were used to calculate p values where appropriate .\\na total of 243 patients out of a database of 1200 patients with hcv satisfied the study criteria .\\nmain reasons to exclude a large number of patients were a lack of detectable rna despite biopsy report , outside biopsy report but slides not available for review , single or no alt value , and patients undergoing treatments .\\nthose analyzed were further divided into pnalt , strict pnalt , and elevated alt group .\\n32 ( 13% ) of these patients were identified as pnalt group and 211 ( 87% ) were identified as elevated alt group . only 13 ( 5% ) patients satisfied criterion for strict pnalt and this group was not analyzed further .\\nthe range of alt values at different time intervals was specified ( table 1 ) .\\n24 ( 75% ) of pnalt patients were females while 85 ( 40% ) with elevated alt were females .\\n13 ( 41% ) with pnalt were african american ( aa ) compared to 87 ( 41% ) with elevated alt , 14 ( 44% ) were caucasian ( w ) compared to 79 ( 38% ) with elevated alt , and 5 ( 15% ) were hispanic ( h ) compared to 44 ( 21% ) with elevated alt .\\nthere was no statistically significant difference in the racial distribution between pnalt and elevated alt group .\\nthere was a higher frequency of women in the pnalt group compared to the elevated alt group ( p = 0.001 ) .\\ndiabetes and alcohol use were more common among patients with elevated alt compared to pnalt ( p = 0.04 and 0.049 , resp . ) .\\nmost notably , patients with pnalt had a higher rate of cirrhosis ( p = 0.007 ) .\\nthere were no differences in age at biopsy , tobacco use , bmi , rna level , and duration of infection between pnalt and elevated alt groups ( table 2 ) .\\nfurther evaluation of liver histology showed no statistically significant difference in mean fibrosis score , mean portal tract inflammation score , mean piecemeal necrosis score ( pmn ) , mean lobular inflammation score , mean histologic activity index ( hai ) score , and mean inflammatory score between pnalt group and elevated alt group ( table 3 ) .\\ncomparison of clinical characteristics of pnalt group with advanced fibrosis with pnalt group without advanced fibrosis showed that only platelet count was significantly different between the two groups ( table 4 ) .\\ntables 5 and 6 characterize the distribution of hcv genotypes based on pnalt and hai score , respectively .\\nthe natural history of chronic hcv infection with pnalt is poorly understood [ 1820 ] .\\nwe attempt to describe the characteristics of patients with pnalt , which constitutes almost 2530% of patients with chronic hcv infection .\\nfirstly , a high proportion of patients with pnalt had advanced fibrosis , and degree of inflammation was not significantly different than chronic hcv infection with abnormal alt .\\nsecondly , it was difficult to identify a substantially large set of patients with hcv infection and pnalt given that there is a significant fluctuation in the alt level over time [ 9 , 15 ] .\\nwe chose duration of 12 months to observe the levels of alt instead of 6 months period .\\nit is becoming clear that 6 months is probably too short given that in some cases alt level may fluctuate after initial period of stability [ 7 , 2124 ] .\\nmost patients with pnalt were females , which is consistent with earlier findings [ 79 ] .\\nsimilarly , age at biopsy , bmi , rna level , and duration of infection were not significantly different between the two groups .\\nhcv genotype distribution showed that a majority ( 81% ) of patients belonged to genotype 1 and it is a well - characterized fact .\\nthere was no significant difference in terms of distribution of genotypes between the 2 groups ( table 5 ) .\\nalso there was no significant difference in hai according to genotype distribution ( table 6 ) .\\nhcv genotyping was performed in 181/243 ( 75% ) patients and was missing in 62 ( 25% ) patients .\\nthe likely reason was transition from paper to electronic records in 1990s and loss of some data .\\nwithin pnalt , those with advanced fibrosis differed from those without advanced fibrosis by platelet count only .\\nsimilarly , pnalt patients were divided based on low - normal alt ( < 19 ) and high - normal alt ( 2030 ) for comparing hai scores among them but no significance was seen ( table 7 ) .\\nstudies to date have been mentioning a milder disease for pnalt in terms of fibrosis and necroinflammation [ 79 , 2628 ] .\\nsome studies have pointed to this fact as well [ 14 , 29 , 30 ] .\\nthis is an interesting finding given that despite significant inflammation ( comparable to abnormal alt ) the alt levels in some of these patients have been consistently low .\\nsimilarly , advanced fibrosis was more common in pnalt group as compared to the elevated alt group ( p = 0.007 ) .\\nit is thought that alt levels normalize in patients with advanced fibrosis   and that is why some authors will advocate doing liver biopsy in patients with hcv infection and normal alt levels .\\nit is interesting to note that the 6 patients with pnalt who had cirrhosis also had evidence of thrombocytopenia .\\nour results indicate that platelet count can be used as a marker to predict fibrosis in patients with pnalt .\\nfor instance , almost all patients in the study group had an alt measured around biopsy but only slightly more than half had alt measured around 12 months .\\nsecond , sample size was relatively small and might not be a true representative of patients with pnalt .\\nthis might in particular be valid for pnalt with advanced fibrosis as 8 ( 25% ) out of 32 patients with pnalt had f3-f4 while only 19 ( 9% ) out of 211 patients with elevated alt had f3-f4 ( p = 0.007 ) .\\nit is not clear if the outcome would have been the same if denominator for pnalt was high .\\nsmall sample size was caused mainly as described before as well as comorbid conditions like advanced kidney disease , hiv , hbsag positive , and being on antiviral treatment .\\nfor example , 11 patients with pnalt were excluded as they had esrd ; alt levels are known to be lower in esrd [ 34 , 35 ] secondary to an impaired immune response in patients with esrd .\\nthis raises concern that those with pnalt and severe liver fibrosis may have been in biochemical remission .\\nfor example , of the 8 patients with severe liver fibrosis ( stages 3 and 4 ) and pnalt , only 2 patients had 4 alt measurements over 12 months ( over the period of 0 , 3 , 6 , and 12 months ) , while 3 patients had 3 alt measurements over 12 months , and the remaining 3 patients had only 2 alt measurements over the 12 months period .\\nthus , it is not possible to say with certainty that all patients with pnalt and severe liver damage had uniformly low alt all along .\\nin conclusion , histological changes observed in hcv patients with pnalt will argue that alt is not a reliable indicator of hepatic inflammation or fibrosis .\\nfemale gender , absence of dm , and abstinence from alcohol were associated with pnalt .\\nthese findings indicate the need for more studies with higher number of pnalt patients to look at the relationship of pnalt with changes occurring at histological and molecular levels .'\n",
            "\n",
            " Predicted summary:\n",
            " b' \\xe2\\x81\\x87  background .  \\xe2\\x81\\x87  chronic hepatitis c virus ( hcv ) infection with alanine aminotransferase ( pnalt ) is not a reliable indicator of hepatic inflammation or fibrosis .  \\xe2\\x81\\x87  fewer studies have looked at the relationship of pnalt with chronic hcv infection using updated normal alanine aminotransferase definitions .  \\xe2\\x81\\x87  patients and methods .  \\xe2\\x81\\x87  medical records of patients with chronic hcv infection were reviewed in an effort to characterize patients with chronic hcv infection and pnalt .  \\xe2\\x81\\x87  pnalt was defined as alt 30 u / l on at least two occasions over 12 months .  \\xe2\\x81\\x87  results .  \\xe2\\x81\\x87  a total of 243 patients with chronic hcv infection were included .  \\xe2\\x81\\x87  patients with pnalt were divided into pnalt , strict pnalt , and elevated alt group .  \\xe2\\x81\\x87  patients with pnalt were more likely to have advanced fibrosis ( p = 0.001 ) .  \\xe2\\x81\\x87  patients with pnalt had a higher rate of cirrhosis ( p = 0.007 ) .  \\xe2\\x81\\x87  patients with pnalt had a higher rate of cirrhosis ( p = 0.007 ) .  \\xe2\\x81\\x87  conclusion .  \\xe2\\x81\\x87  histological changes observed in patients with pnalt'\n",
            "\n",
            " Ground truth summary:\n",
            " b' patients with chronic hepatitis c virus ( hcv ) infection and persistently normal alanine aminotransferase ( pnalt ) are generally described to have mild liver disease . \\n the aim of this study was to compare clinical and histological features in hcv - infected patients with pnalt and elevated alt . \\n patients presenting to the university of illinois medical center , chicago , who had biopsy proven hcv , an alt measurement at the time of liver biopsy , at least one additional alt measurement over the next 12 months , and liver biopsy slides available for review were identified . \\n pnalt was defined as alt  30 on at least 2 different occasions over 12 months . \\n of 1200 patients with hcv , 243 met the study criteria . \\n 13% ( 32/243 ) of patients had pnalt while 87% ( 211/243 ) had elevated alt . \\n significantly more patients with pnalt had advanced fibrosis ( f3 and f4 ) compared to those with elevated alt ( p = 0.007 ) . \\n there was no significant difference in the histology activity index score as well as mean inflammatory score between the two groups . in conclusion , in a well - characterized cohort of patients at a tertiary medical center , pnalt did not distinguish patients with mild liver disease . '\n",
            "\n",
            "\n"
          ],
          "name": "stdout"
        }
      ]
    },
    {
      "cell_type": "code",
      "metadata": {
        "colab": {
          "base_uri": "https://localhost:8080/"
        },
        "id": "ftKQ3AfNCZ_U",
        "outputId": "83e04a51-347f-40ec-9435-d458610ccad1"
      },
      "source": [
        "tmp['pred_sent'][0].numpy()"
      ],
      "execution_count": null,
      "outputs": [
        {
          "output_type": "execute_result",
          "data": {
            "text/plain": [
              "b'this article is a brief review of the british society for physiology .  \\xe2\\x81\\x87  it includes a brief review of the british society for physiology .  \\xe2\\x81\\x87  british japanese japanese japanese japanese japanese .  \\xe2\\x81\\x87  british japanese japanese japanese japanese .  \\xe2\\x81\\x87  british japanese japanese japanese japanese .  \\xe2\\x81\\x87  japanese japanese japanese .  \\xe2\\x81\\x87  british japanese japanese .  \\xe2\\x81\\x87  japanese japanese .  \\xe2\\x81\\x87  japanese japanese .'"
            ]
          },
          "metadata": {
            "tags": []
          },
          "execution_count": 100
        }
      ]
    },
    {
      "cell_type": "code",
      "metadata": {
        "colab": {
          "base_uri": "https://localhost:8080/"
        },
        "id": "bJwhMlmIB_Cu",
        "outputId": "35ba51ac-bf19-4379-82d5-6e7e27d8fd04"
      },
      "source": [
        "x = summerize(tf.constant('everyone at work loves lifesavers whether you crunch or suck on them all except the green and come on lifesavers bring out a grape blackberry only bag'))"
      ],
      "execution_count": null,
      "outputs": [
        {
          "output_type": "execute_result",
          "data": {
            "text/plain": [
              "{'pred_ids': <tf.Tensor: shape=(1, 256), dtype=int32, numpy=\n",
              " array([[  973, 23498,   875, 16665,   973, 23498,   875, 16665,   973,\n",
              "         23498,   875, 16665,   973, 23498,   875, 16665,   973, 23498,\n",
              "           875, 16665,   973, 23498,   875, 16665,   973, 23498,   875,\n",
              "         16665,   973, 23498,   875, 16665,   973, 23498,   875, 16665,\n",
              "           973, 23498,   875, 13987,   865,   321,   100,   973, 23498,\n",
              "           875, 16665,   973, 23498,   875, 16665,   973, 23498,   875,\n",
              "         16665,   973, 23498,   875, 16665,   973, 23498,   875, 16665,\n",
              "           973, 23498,   875, 16665,   973, 23498,   875, 16665,   973,\n",
              "         23498,   875, 13987,   865,   321,   100,   363,   973, 23498,\n",
              "           875, 16665,   973, 23498,   875, 16665,   973, 23498,   875,\n",
              "         16665,   973, 23498,   875, 13987,  2547,  1074,   388,   363,\n",
              "           771,   387,   363,   973, 23498,   875, 16665,   973, 23498,\n",
              "           875, 16665,   973, 23498,   875, 16665,  2547,  1074,   388,\n",
              "           363,   771,   387,   363,   973, 23498,   875, 16665,   973,\n",
              "         23498,   875, 16665,  2547,  1074,   388,   363,   771,   387,\n",
              "           363,   973, 23498,   875, 16665,   973, 23498,   875, 13987,\n",
              "          2547,   388,   363,   771,   387,   363,   973, 23498,   875,\n",
              "         16665,   973, 23498,   875, 13987,  2547,   388,   363,   771,\n",
              "           387,   363,   973, 23498,   875, 16665,   973, 23498,   875,\n",
              "         16665,  2547,   388,   363,   771,   387,   363,   973, 23498,\n",
              "           875, 16665,   973, 23498,   875, 13987,  2547,   388,   363,\n",
              "           771,   387,   363,   973, 23498,   875, 16665,   973, 23498,\n",
              "           875, 13987,  2547,   388,   363,   771,   387,   363,   973,\n",
              "         23498,   875, 16665,   973, 23498,   875, 13987,  2547,   388,\n",
              "           363,   771,   387,   363,   973, 23498,   875, 16665,   973,\n",
              "         23498,   875, 13987,  2547,   388,   363,   771,   387,   363,\n",
              "           973, 23498,   875, 16665,   973, 23498,   875, 13987,  2547,\n",
              "           388,   363,   771,   387,   363,   973, 23498,   875, 16665,\n",
              "           973, 23498,   875, 13987]], dtype=int32)>,\n",
              " 'pred_sent': <tf.Tensor: shape=(1,), dtype=string, numpy=\n",
              " array([b'phenotypic phenotypic phenotypic phenotypic phenotypic phenotypic phenotypic phenotypic phenotypic phenotyping .  \\xe2\\x81\\x87  phenotypic phenotypic phenotypic phenotypic phenotypic phenotypic phenotypic phenotyping .  \\xe2\\x81\\x87  the phenotypic phenotypic phenotypic phenotyping method used in the work of the phenotypic phenotypic phenotypic method used in the work of the phenotypic phenotypic method used in the work of the phenotypic phenotyping method in the work of the phenotypic phenotyping method in the work of the phenotypic phenotypic method in the work of the phenotypic phenotyping method in the work of the phenotypic phenotyping method in the work of the phenotypic phenotyping method in the work of the phenotypic phenotyping method in the work of the phenotypic phenotyping method in the work of the phenotypic phenotyping'],\n",
              "       dtype=object)>}"
            ]
          },
          "metadata": {
            "tags": []
          },
          "execution_count": 97
        }
      ]
    },
    {
      "cell_type": "code",
      "metadata": {
        "id": "x3AfvpQ9CyEg"
      },
      "source": [
        "def result(txt):\n",
        "  x = summerize(tf.constant(txt))['pred_sent'][0].numpy()\n",
        "  print(f'original: {txt} \\npredicted summarization: {x}')"
      ],
      "execution_count": 16,
      "outputs": []
    },
    {
      "cell_type": "code",
      "metadata": {
        "colab": {
          "base_uri": "https://localhost:8080/"
        },
        "id": "lHZPcz1wDMV1",
        "outputId": "f7d23a01-21b9-4f93-8555-a67a37fd475a"
      },
      "source": [
        "result('everyone at work loves lifesavers whether you crunch or suck on them all except the green and come on lifesavers bring out a grape blackberry only bag')"
      ],
      "execution_count": 17,
      "outputs": [
        {
          "output_type": "stream",
          "text": [
            "original: everyone at work loves lifesavers whether you crunch or suck on them all except the green and come on lifesavers bring out a grape blackberry only bag \n",
            "predicted summarization: b'phenotypic phenotypic phenotypic phenotypic phenotypic phenotypic phenotypic phenotypic phenotypic phenotyping .  \\xe2\\x81\\x87  phenotypic phenotypic phenotypic phenotypic phenotypic phenotypic phenotypic phenotyping .  \\xe2\\x81\\x87  the phenotypic phenotypic phenotypic phenotyping method used in the work of the phenotypic phenotypic phenotypic method used in the work of the phenotypic phenotypic method used in the work of the phenotypic phenotyping method in the work of the phenotypic phenotyping method in the work of the phenotypic phenotypic method in the work of the phenotypic phenotyping method in the work of the phenotypic phenotyping method in the work of the phenotypic phenotyping method in the work of the phenotypic phenotyping method in the work of the phenotypic phenotyping method in the work of the phenotypic phenotyping'\n"
          ],
          "name": "stdout"
        }
      ]
    },
    {
      "cell_type": "markdown",
      "metadata": {
        "id": "WQx9-_u6IMWI"
      },
      "source": [
        "## Evaluate Rouge Scores"
      ]
    },
    {
      "cell_type": "code",
      "metadata": {
        "id": "wb4wSbmfK11B"
      },
      "source": [
        "from rouge_score import rouge_scorer\n",
        "from rouge_score import scoring"
      ],
      "execution_count": null,
      "outputs": []
    },
    {
      "cell_type": "code",
      "metadata": {
        "id": "lnep7S6KIgRB"
      },
      "source": [
        "scorer = rouge_scorer.RougeScorer([\"rouge1\", \"rouge2\", \"rougeLsum\"], use_stemmer=True)\n",
        "aggregator = scoring.BootstrapAggregator()"
      ],
      "execution_count": null,
      "outputs": []
    },
    {
      "cell_type": "code",
      "metadata": {
        "id": "0VeTZT34IPoR",
        "colab": {
          "base_uri": "https://localhost:8080/"
        },
        "outputId": "44b365b2-4335-48d0-d8cb-f9881a60e9e1"
      },
      "source": [
        "for ex in tqdm(dataset.take(100), position=0):\n",
        "  predicted_summary = summerize(ex[0])['pred_sent'][0]\n",
        "  score = scorer.score(ex[1].numpy().decode('utf-8'), predicted_summary.numpy().decode('utf-8'))\n",
        "  aggregator.add_scores(score)"
      ],
      "execution_count": null,
      "outputs": [
        {
          "output_type": "stream",
          "text": [
            "100%|██████████| 100/100 [38:52<00:00, 23.32s/it]\n"
          ],
          "name": "stderr"
        }
      ]
    },
    {
      "cell_type": "code",
      "metadata": {
        "id": "p2rKqHdOKrmv",
        "colab": {
          "base_uri": "https://localhost:8080/"
        },
        "outputId": "6813f6c8-8dbf-4957-ca7a-e3eedd2a36a7"
      },
      "source": [
        "aggregator.aggregate()"
      ],
      "execution_count": null,
      "outputs": [
        {
          "output_type": "execute_result",
          "data": {
            "text/plain": [
              "{'rouge1': AggregateScore(low=Score(precision=0.0626133716965276, recall=0.09245324354755759, fmeasure=0.06909132433045363), mid=Score(precision=0.0746583443146113, recall=0.10755899354204748, fmeasure=0.08052101710380298), high=Score(precision=0.08904032679502548, recall=0.1236824852479251, fmeasure=0.0928306329324628)),\n",
              " 'rouge2': AggregateScore(low=Score(precision=0.00381175250519571, recall=0.005956829545162127, fmeasure=0.00438814247007295), mid=Score(precision=0.005865650668740157, recall=0.008746112948814094, fmeasure=0.00665157835069642), high=Score(precision=0.0084917200439844, recall=0.012320302379654698, fmeasure=0.009338255444333433)),\n",
              " 'rougeLsum': AggregateScore(low=Score(precision=0.05585761434091965, recall=0.0830323189114007, fmeasure=0.06221098171160909), mid=Score(precision=0.0666258100692349, recall=0.09613139230841955, fmeasure=0.07175521600863494), high=Score(precision=0.07954490388251197, recall=0.10937686014969702, fmeasure=0.08263920218454585))}"
            ]
          },
          "metadata": {
            "tags": []
          },
          "execution_count": 13
        }
      ]
    },
    {
      "cell_type": "markdown",
      "metadata": {
        "id": "6TX7ZOeVYbO8"
      },
      "source": [
        "## cnn_dailymail"
      ]
    },
    {
      "cell_type": "code",
      "metadata": {
        "id": "GtYoyyooX4pP"
      },
      "source": [
        "dataset2 = tfds.load('cnn_dailymail', split='test', shuffle_files=False, as_supervised=True)"
      ],
      "execution_count": null,
      "outputs": []
    },
    {
      "cell_type": "code",
      "metadata": {
        "id": "00sn8AqmHxkk",
        "colab": {
          "base_uri": "https://localhost:8080/"
        },
        "outputId": "143ab7cc-5966-468c-cba1-9729d1957fa0"
      },
      "source": [
        "# inspect at a few examples\n",
        "for ex in dataset2.take(3):\n",
        "  print(ex)"
      ],
      "execution_count": 5,
      "outputs": [
        {
          "output_type": "stream",
          "text": [
            "(<tf.Tensor: shape=(), dtype=string, numpy=b\"Ever noticed how plane seats appear to be getting smaller and smaller? With increasing numbers of people taking to the skies, some experts are questioning if having such packed out planes is putting passengers at risk. They say that the shrinking space on aeroplanes is not only uncomfortable - it's putting our health and safety in danger. More than squabbling over the arm rest, shrinking space on planes putting our health and safety in danger? This week, a U.S consumer advisory group set up by the Department of Transportation said at a public hearing that while the government is happy to set standards for animals flying on planes, it doesn't stipulate a minimum amount of space for humans. 'In a world where animals have more rights to space and food than humans,' said Charlie Leocha, consumer representative on the committee.\\xc2\\xa0'It is time that the DOT and FAA take a stand for humane treatment of passengers.' But could crowding on planes lead to more serious issues than fighting for space in the overhead lockers, crashing elbows and seat back kicking? Tests conducted by the FAA use planes with a 31 inch pitch, a standard which on some airlines has decreased . Many economy seats on United Airlines have 30 inches of room, while some airlines offer as little as 28 inches . Cynthia Corbertt, a human factors researcher with the Federal Aviation Administration, that it conducts tests on how quickly passengers can leave a plane. But these tests are conducted using planes with 31 inches between each row of seats, a standard which on some airlines has decreased, reported the Detroit News. The distance between two seats from one point on a seat to the same point on the seat behind it is known as the pitch. While most airlines stick to a pitch of 31 inches or above, some fall below this. While United Airlines has 30 inches of space, Gulf Air economy seats have between 29 and 32 inches, Air Asia offers 29 inches and Spirit Airlines offers just 28 inches. British Airways has a seat pitch of 31 inches, while easyJet has 29 inches, Thomson's short haul seat pitch is 28 inches, and Virgin Atlantic's is 30-31.\">, <tf.Tensor: shape=(), dtype=string, numpy=b'Experts question if  packed out planes are putting passengers at risk .\\nU.S consumer advisory group says minimum space must be stipulated .\\nSafety tests conducted on planes with more leg room than airlines offer .'>)\n",
            "(<tf.Tensor: shape=(), dtype=string, numpy=b\"A drunk teenage boy had to be rescued by security after jumping into a lions' enclosure at a zoo in western India. Rahul Kumar, 17, clambered over the enclosure fence at the\\xc2\\xa0Kamla Nehru Zoological Park in Ahmedabad, and began running towards the animals, shouting he would 'kill them'. Mr Kumar explained afterwards that he was drunk and 'thought I'd stand a good chance' against the predators. Next level drunk: Intoxicated Rahul Kumar, 17, climbed into the lions' enclosure at a zoo in Ahmedabad and began running towards the animals shouting 'Today I kill a lion!' Mr Kumar had been sitting near the enclosure when he suddenly made a dash for the lions, surprising zoo security. The intoxicated teenager ran towards the lions, shouting: 'Today I kill a lion or a lion kills me!' A zoo spokesman said: 'Guards had earlier spotted him close to the enclosure but had no idea he was planing to enter it. 'Fortunately, there are eight moats to cross before getting to where the lions usually are and he fell into the second one, allowing guards to catch up with him and take him out. 'We then handed him over to the police.' Brave fool: Fortunately, Mr Kumar  fell into a moat as he ran towards the lions and could be rescued by zoo security staff before reaching the animals (stock image) Kumar later explained: 'I don't really know why I did it. 'I was drunk and thought I'd stand a good chance.' A police spokesman said: 'He has been cautioned and will be sent for psychiatric evaluation. 'Fortunately for him, the lions were asleep and the zoo guards acted quickly enough to prevent a tragedy similar to that in Delhi.' Last year a 20-year-old man was mauled to death by a tiger in the Indian capital after climbing into its enclosure at the city zoo.\">, <tf.Tensor: shape=(), dtype=string, numpy=b\"Drunk teenage boy climbed into lion enclosure at zoo in west India .\\nRahul Kumar, 17, ran towards animals shouting 'Today I kill a lion!'\\nFortunately he fell into a moat before reaching lions and was rescued .\">)\n",
            "(<tf.Tensor: shape=(), dtype=string, numpy=b\"Dougie Freedman is on the verge of agreeing a new two-year deal to remain at Nottingham Forest. Freedman has stabilised Forest since he replaced cult hero Stuart Pearce and the club's owners are pleased with the job he has done at the City Ground. Dougie Freedman is set to sign a new deal at Nottingham Forest . Freedman has impressed at the City Ground since replacing Stuart Pearce in February . They made an audacious attempt on the play-off places when Freedman replaced Pearce but have tailed off in recent weeks. That has not prevented Forest's ownership making moves to secure Freedman on a contract for the next two seasons.\">, <tf.Tensor: shape=(), dtype=string, numpy=b\"Nottingham Forest are close to extending Dougie Freedman's contract .\\nThe Forest boss took over from former manager Stuart Pearce in February .\\nFreedman has since lead the club to ninth in the Championship .\">)\n"
          ],
          "name": "stdout"
        }
      ]
    }
  ]
}